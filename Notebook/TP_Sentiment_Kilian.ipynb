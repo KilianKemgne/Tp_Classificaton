{
  "cells": [
    {
      "cell_type": "markdown",
      "metadata": {
        "id": "29XdGI46kECH"
      },
      "source": [
        " # **KEMGNE TAPE KILIAN LENAÏC**\n",
        " \n",
        "\n",
        "*   CLASSE : 4GI\n",
        "*   MATRICULE : 19P069\n",
        "\n",
        "\n",
        "# **Resume du TP**\n",
        "\n",
        ">L'objectif principal de ce TP est d'évaluer certains classificateurs de base dans la tâche d'analyse des sentiments. Pour résoudre ce problème, une combinaison de l'approches d'incorporation de mots TF-IDF et quatre classificateurs de base (SVM, Naive Bayes, Decision Tree, LDA) ainsi que certaines techniques de prétraitement de texte ont été essayées. sur l'ensemble de données des critiques de films IMDB.\n",
        "\n",
        "> Ensemble de données IMDB sur les critiques de films L'ensemble de données contient 50 000 critiques, dont la moitié sont positives et l'autre moitié négatives. Cet ensemble de données a été compilé par <a href=\"http://ai.stanford.edu/~amaas/\">Andrew Maas</a> et peut être trouvé ici : <a href=\"http://ai.stanford.edu/~amaas/data/sentiment/\">Grand ensemble de données sur les critiques de films</a>\n",
        "\n"
      ]
    },
    {
      "cell_type": "markdown",
      "metadata": {
        "id": "vUhmyjBl0DnT"
      },
      "source": [
        "# **Telechargement et installation des prerequis**"
      ]
    },
    {
      "cell_type": "markdown",
      "metadata": {
        "id": "vR_lkeT20Lt2"
      },
      "source": [
        "\n",
        "> **Bibliothèques**"
      ]
    },
    {
      "cell_type": "code",
      "execution_count": 24,
      "metadata": {
        "colab": {
          "base_uri": "https://localhost:8080/"
        },
        "id": "8Sm3s4LPM-Kw",
        "outputId": "c8bc8209-9c27-47a4-a281-a8ec0f8a2e2c"
      },
      "outputs": [
        {
          "name": "stderr",
          "output_type": "stream",
          "text": [
            "[nltk_data] Downloading package punkt to /root/nltk_data...\n",
            "[nltk_data]   Package punkt is already up-to-date!\n",
            "[nltk_data] Downloading package stopwords to /root/nltk_data...\n",
            "[nltk_data]   Package stopwords is already up-to-date!\n",
            "[nltk_data] Downloading package wordnet to /root/nltk_data...\n",
            "[nltk_data]   Package wordnet is already up-to-date!\n",
            "[nltk_data] Downloading package omw-1.4 to /root/nltk_data...\n",
            "[nltk_data]   Package omw-1.4 is already up-to-date!\n"
          ]
        }
      ],
      "source": [
        "import os\n",
        "import re\n",
        "import numpy as np\n",
        "import pandas as pd\n",
        "import graphviz \n",
        "import pickle\n",
        "import random\n",
        "\n",
        "import nltk\n",
        "nltk.download('punkt') \n",
        "nltk.download('stopwords')\n",
        "nltk.download('wordnet')\n",
        "nltk.download('omw-1.4')\n",
        "from nltk.corpus import stopwords\n",
        "from nltk.tokenize import word_tokenize\n",
        "from nltk.stem import WordNetLemmatizer\n",
        "\n",
        "import matplotlib.pyplot as plt\n",
        "\n",
        "from sklearn.model_selection import train_test_split\n",
        "from sklearn.tree import DecisionTreeClassifier\n",
        "import sklearn.tree as tree\n",
        "from sklearn.feature_extraction.text import CountVectorizer\n",
        "from sklearn.metrics import accuracy_score\n",
        "from sklearn.svm import LinearSVC\n",
        "from sklearn.feature_extraction.text import TfidfVectorizer\n",
        "from sklearn.feature_extraction.text import CountVectorizer\n",
        "from sklearn.naive_bayes import MultinomialNB\n",
        "from sklearn.discriminant_analysis import LinearDiscriminantAnalysis\n",
        "from sklearn.metrics import accuracy_score\n",
        "from sklearn.pipeline import make_pipeline\n",
        "from sklearn.preprocessing import StandardScaler\n",
        "from sklearn.feature_extraction.text import TfidfVectorizer\n",
        "from sklearn.svm import SVC\n",
        "from prettytable import PrettyTable\n"
      ]
    },
    {
      "cell_type": "markdown",
      "metadata": {
        "id": "4UwH3M_F0e3B"
      },
      "source": [
        ">  ## **Telechargement du dataset**\n",
        "\n",
        "\n",
        "---\n",
        "\n",
        "> L'ensemble de données a été divisé de manière égale en un ensemble d'apprentissage et un ensemble de test. De plus, chaque ensemble contient 12,5 000 avis positifs et 12,5 000 avis négatifs. Les données de formation et de test ont été chargées sous forme de trames de données Pandas."
      ]
    },
    {
      "cell_type": "code",
      "execution_count": 25,
      "metadata": {
        "colab": {
          "base_uri": "https://localhost:8080/"
        },
        "id": "m0g002oBkALA",
        "outputId": "5401d3bc-91a7-4418-bc8f-2af467190852"
      },
      "outputs": [
        {
          "name": "stdout",
          "output_type": "stream",
          "text": [
            "  % Total    % Received % Xferd  Average Speed   Time    Time     Time  Current\n",
            "                                 Dload  Upload   Total   Spent    Left  Speed\n",
            "100 80.2M  100 80.2M    0     0  19.5M      0  0:00:04  0:00:04 --:--:-- 19.5M\n"
          ]
        }
      ],
      "source": [
        "!curl -O https://ai.stanford.edu/~amaas/data/sentiment/aclImdb_v1.tar.gz\n",
        "!tar -xf aclImdb_v1.tar.gz"
      ]
    },
    {
      "cell_type": "code",
      "execution_count": 26,
      "metadata": {
        "colab": {
          "base_uri": "https://localhost:8080/"
        },
        "id": "aUq_R-HcOJpY",
        "outputId": "e5ede6ad-5a34-4ff3-a8e9-1796b0fe0259"
      },
      "outputs": [
        {
          "name": "stdout",
          "output_type": "stream",
          "text": [
            "aclImdb  aclImdb_v1.tar.gz  df\tdf.pdf\tsample_data\n"
          ]
        }
      ],
      "source": [
        "!ls"
      ]
    },
    {
      "cell_type": "markdown",
      "metadata": {
        "id": "wJgwHykXoaZ1"
      },
      "source": [
        "> ### **Fonction de recupération des données**"
      ]
    },
    {
      "cell_type": "code",
      "execution_count": 27,
      "metadata": {
        "id": "qHnM5ODYOZzE"
      },
      "outputs": [],
      "source": [
        "def loadDataset(data_dir):\n",
        "    \n",
        "    data = {}\n",
        "    for partition in [\"train\", \"test\"]:\n",
        "        data[partition] = []\n",
        "        for sentiment in [\"neg\", \"pos\"]:\n",
        "            lable = 1 if sentiment == \"pos\" else 0\n",
        "\n",
        "            path = os.path.join(data_dir, partition, sentiment)\n",
        "            files = os.listdir(path)\n",
        "            for f_name in files:\n",
        "                with open(os.path.join(path, f_name), \"rb\") as f:\n",
        "                    review = f.read().decode('utf-8').replace('\\n', '')\n",
        "                    data[partition].append([review, lable])\n",
        "\n",
        "    random.seed(4) # to comparision purpose\n",
        "    random.shuffle(data[\"train\"])\n",
        "    random.shuffle(data[\"test\"])\n",
        "    \n",
        "    data[\"train\"] = pd.DataFrame(data[\"train\"],\n",
        "                                 columns=['review', 'sentiment'])\n",
        "    data[\"test\"] = pd.DataFrame(data[\"test\"],\n",
        "                                columns=['review', 'sentiment'])\n",
        "\n",
        "    return data[\"train\"], data[\"test\"]"
      ]
    },
    {
      "cell_type": "markdown",
      "metadata": {
        "id": "fxPHt92ooyIt"
      },
      "source": [
        "> **Données D'entrainement**"
      ]
    },
    {
      "cell_type": "code",
      "execution_count": 28,
      "metadata": {
        "colab": {
          "base_uri": "https://localhost:8080/",
          "height": 441
        },
        "id": "rxl5i6-9OeDq",
        "outputId": "bb5fc3ff-269f-4653-8eda-4535bc589744"
      },
      "outputs": [
        {
          "name": "stdout",
          "output_type": "stream",
          "text": [
            "# trainings:\n"
          ]
        },
        {
          "data": {
            "text/html": [
              "\n",
              "  <div id=\"df-eb35cf14-4315-4b15-8af8-006b1ad4ac06\">\n",
              "    <div class=\"colab-df-container\">\n",
              "      <div>\n",
              "<style scoped>\n",
              "    .dataframe tbody tr th:only-of-type {\n",
              "        vertical-align: middle;\n",
              "    }\n",
              "\n",
              "    .dataframe tbody tr th {\n",
              "        vertical-align: top;\n",
              "    }\n",
              "\n",
              "    .dataframe thead th {\n",
              "        text-align: right;\n",
              "    }\n",
              "</style>\n",
              "<table border=\"1\" class=\"dataframe\">\n",
              "  <thead>\n",
              "    <tr style=\"text-align: right;\">\n",
              "      <th></th>\n",
              "      <th>review</th>\n",
              "      <th>sentiment</th>\n",
              "    </tr>\n",
              "  </thead>\n",
              "  <tbody>\n",
              "    <tr>\n",
              "      <th>0</th>\n",
              "      <td>Boy what a dud this mess was.But it only lasts...</td>\n",
              "      <td>0</td>\n",
              "    </tr>\n",
              "    <tr>\n",
              "      <th>1</th>\n",
              "      <td>Just when you thought it was safe to go back i...</td>\n",
              "      <td>0</td>\n",
              "    </tr>\n",
              "    <tr>\n",
              "      <th>2</th>\n",
              "      <td>I enjoyed this movie, granted it is mainly bec...</td>\n",
              "      <td>1</td>\n",
              "    </tr>\n",
              "    <tr>\n",
              "      <th>3</th>\n",
              "      <td>This film pulls you in from the get-go because...</td>\n",
              "      <td>1</td>\n",
              "    </tr>\n",
              "    <tr>\n",
              "      <th>4</th>\n",
              "      <td>I loved the episode but seems to me there shou...</td>\n",
              "      <td>1</td>\n",
              "    </tr>\n",
              "    <tr>\n",
              "      <th>...</th>\n",
              "      <td>...</td>\n",
              "      <td>...</td>\n",
              "    </tr>\n",
              "    <tr>\n",
              "      <th>24995</th>\n",
              "      <td>\"The House That Dripped Blood\" is one of the b...</td>\n",
              "      <td>1</td>\n",
              "    </tr>\n",
              "    <tr>\n",
              "      <th>24996</th>\n",
              "      <td>After erasing my thoughts nearly twenty-seven ...</td>\n",
              "      <td>1</td>\n",
              "    </tr>\n",
              "    <tr>\n",
              "      <th>24997</th>\n",
              "      <td>From around the time Europe began fighting Wor...</td>\n",
              "      <td>0</td>\n",
              "    </tr>\n",
              "    <tr>\n",
              "      <th>24998</th>\n",
              "      <td>A family moves into a old house in Japan. But ...</td>\n",
              "      <td>0</td>\n",
              "    </tr>\n",
              "    <tr>\n",
              "      <th>24999</th>\n",
              "      <td>I have no idea what on earth, or beyond, could...</td>\n",
              "      <td>0</td>\n",
              "    </tr>\n",
              "  </tbody>\n",
              "</table>\n",
              "<p>25000 rows × 2 columns</p>\n",
              "</div>\n",
              "      <button class=\"colab-df-convert\" onclick=\"convertToInteractive('df-eb35cf14-4315-4b15-8af8-006b1ad4ac06')\"\n",
              "              title=\"Convert this dataframe to an interactive table.\"\n",
              "              style=\"display:none;\">\n",
              "        \n",
              "  <svg xmlns=\"http://www.w3.org/2000/svg\" height=\"24px\"viewBox=\"0 0 24 24\"\n",
              "       width=\"24px\">\n",
              "    <path d=\"M0 0h24v24H0V0z\" fill=\"none\"/>\n",
              "    <path d=\"M18.56 5.44l.94 2.06.94-2.06 2.06-.94-2.06-.94-.94-2.06-.94 2.06-2.06.94zm-11 1L8.5 8.5l.94-2.06 2.06-.94-2.06-.94L8.5 2.5l-.94 2.06-2.06.94zm10 10l.94 2.06.94-2.06 2.06-.94-2.06-.94-.94-2.06-.94 2.06-2.06.94z\"/><path d=\"M17.41 7.96l-1.37-1.37c-.4-.4-.92-.59-1.43-.59-.52 0-1.04.2-1.43.59L10.3 9.45l-7.72 7.72c-.78.78-.78 2.05 0 2.83L4 21.41c.39.39.9.59 1.41.59.51 0 1.02-.2 1.41-.59l7.78-7.78 2.81-2.81c.8-.78.8-2.07 0-2.86zM5.41 20L4 18.59l7.72-7.72 1.47 1.35L5.41 20z\"/>\n",
              "  </svg>\n",
              "      </button>\n",
              "      \n",
              "  <style>\n",
              "    .colab-df-container {\n",
              "      display:flex;\n",
              "      flex-wrap:wrap;\n",
              "      gap: 12px;\n",
              "    }\n",
              "\n",
              "    .colab-df-convert {\n",
              "      background-color: #E8F0FE;\n",
              "      border: none;\n",
              "      border-radius: 50%;\n",
              "      cursor: pointer;\n",
              "      display: none;\n",
              "      fill: #1967D2;\n",
              "      height: 32px;\n",
              "      padding: 0 0 0 0;\n",
              "      width: 32px;\n",
              "    }\n",
              "\n",
              "    .colab-df-convert:hover {\n",
              "      background-color: #E2EBFA;\n",
              "      box-shadow: 0px 1px 2px rgba(60, 64, 67, 0.3), 0px 1px 3px 1px rgba(60, 64, 67, 0.15);\n",
              "      fill: #174EA6;\n",
              "    }\n",
              "\n",
              "    [theme=dark] .colab-df-convert {\n",
              "      background-color: #3B4455;\n",
              "      fill: #D2E3FC;\n",
              "    }\n",
              "\n",
              "    [theme=dark] .colab-df-convert:hover {\n",
              "      background-color: #434B5C;\n",
              "      box-shadow: 0px 1px 3px 1px rgba(0, 0, 0, 0.15);\n",
              "      filter: drop-shadow(0px 1px 2px rgba(0, 0, 0, 0.3));\n",
              "      fill: #FFFFFF;\n",
              "    }\n",
              "  </style>\n",
              "\n",
              "      <script>\n",
              "        const buttonEl =\n",
              "          document.querySelector('#df-eb35cf14-4315-4b15-8af8-006b1ad4ac06 button.colab-df-convert');\n",
              "        buttonEl.style.display =\n",
              "          google.colab.kernel.accessAllowed ? 'block' : 'none';\n",
              "\n",
              "        async function convertToInteractive(key) {\n",
              "          const element = document.querySelector('#df-eb35cf14-4315-4b15-8af8-006b1ad4ac06');\n",
              "          const dataTable =\n",
              "            await google.colab.kernel.invokeFunction('convertToInteractive',\n",
              "                                                     [key], {});\n",
              "          if (!dataTable) return;\n",
              "\n",
              "          const docLinkHtml = 'Like what you see? Visit the ' +\n",
              "            '<a target=\"_blank\" href=https://colab.research.google.com/notebooks/data_table.ipynb>data table notebook</a>'\n",
              "            + ' to learn more about interactive tables.';\n",
              "          element.innerHTML = '';\n",
              "          dataTable['output_type'] = 'display_data';\n",
              "          await google.colab.output.renderOutput(dataTable, element);\n",
              "          const docLink = document.createElement('div');\n",
              "          docLink.innerHTML = docLinkHtml;\n",
              "          element.appendChild(docLink);\n",
              "        }\n",
              "      </script>\n",
              "    </div>\n",
              "  </div>\n",
              "  "
            ],
            "text/plain": [
              "                                                  review  sentiment\n",
              "0      Boy what a dud this mess was.But it only lasts...          0\n",
              "1      Just when you thought it was safe to go back i...          0\n",
              "2      I enjoyed this movie, granted it is mainly bec...          1\n",
              "3      This film pulls you in from the get-go because...          1\n",
              "4      I loved the episode but seems to me there shou...          1\n",
              "...                                                  ...        ...\n",
              "24995  \"The House That Dripped Blood\" is one of the b...          1\n",
              "24996  After erasing my thoughts nearly twenty-seven ...          1\n",
              "24997  From around the time Europe began fighting Wor...          0\n",
              "24998  A family moves into a old house in Japan. But ...          0\n",
              "24999  I have no idea what on earth, or beyond, could...          0\n",
              "\n",
              "[25000 rows x 2 columns]"
            ]
          },
          "execution_count": 28,
          "metadata": {},
          "output_type": "execute_result"
        }
      ],
      "source": [
        "data_dir = \"aclImdb/\"\n",
        "\n",
        "train_data, test_data = loadDataset(data_dir)\n",
        "print('# trainings:')\n",
        "train_data\n"
      ]
    },
    {
      "cell_type": "markdown",
      "metadata": {
        "id": "C5H5ADXe1Yjd"
      },
      "source": [
        "> **Données de test**"
      ]
    },
    {
      "cell_type": "code",
      "execution_count": 29,
      "metadata": {
        "colab": {
          "base_uri": "https://localhost:8080/",
          "height": 441
        },
        "id": "nUxYSuJ3OmUI",
        "outputId": "f7961296-b4fc-4c64-d02c-da1db29d6d96"
      },
      "outputs": [
        {
          "name": "stdout",
          "output_type": "stream",
          "text": [
            "# testings:\n"
          ]
        },
        {
          "data": {
            "text/html": [
              "\n",
              "  <div id=\"df-ed82dffe-0d02-4e16-9621-d3b6be31c6d5\">\n",
              "    <div class=\"colab-df-container\">\n",
              "      <div>\n",
              "<style scoped>\n",
              "    .dataframe tbody tr th:only-of-type {\n",
              "        vertical-align: middle;\n",
              "    }\n",
              "\n",
              "    .dataframe tbody tr th {\n",
              "        vertical-align: top;\n",
              "    }\n",
              "\n",
              "    .dataframe thead th {\n",
              "        text-align: right;\n",
              "    }\n",
              "</style>\n",
              "<table border=\"1\" class=\"dataframe\">\n",
              "  <thead>\n",
              "    <tr style=\"text-align: right;\">\n",
              "      <th></th>\n",
              "      <th>review</th>\n",
              "      <th>sentiment</th>\n",
              "    </tr>\n",
              "  </thead>\n",
              "  <tbody>\n",
              "    <tr>\n",
              "      <th>0</th>\n",
              "      <td>Text Taken from 2001 Melbourne International F...</td>\n",
              "      <td>1</td>\n",
              "    </tr>\n",
              "    <tr>\n",
              "      <th>1</th>\n",
              "      <td>OK, first off there may be a SPOILER here sinc...</td>\n",
              "      <td>0</td>\n",
              "    </tr>\n",
              "    <tr>\n",
              "      <th>2</th>\n",
              "      <td>A good old-fashioned flight-and-revenge wester...</td>\n",
              "      <td>1</td>\n",
              "    </tr>\n",
              "    <tr>\n",
              "      <th>3</th>\n",
              "      <td>Andaz Apna Apna is a movie that I treasure and...</td>\n",
              "      <td>1</td>\n",
              "    </tr>\n",
              "    <tr>\n",
              "      <th>4</th>\n",
              "      <td>Some people say this show was good in it's ear...</td>\n",
              "      <td>0</td>\n",
              "    </tr>\n",
              "    <tr>\n",
              "      <th>...</th>\n",
              "      <td>...</td>\n",
              "      <td>...</td>\n",
              "    </tr>\n",
              "    <tr>\n",
              "      <th>24995</th>\n",
              "      <td>William Petersen (that C.S.I guy) has a small ...</td>\n",
              "      <td>0</td>\n",
              "    </tr>\n",
              "    <tr>\n",
              "      <th>24996</th>\n",
              "      <td>I never read the book. Now I don't really want...</td>\n",
              "      <td>0</td>\n",
              "    </tr>\n",
              "    <tr>\n",
              "      <th>24997</th>\n",
              "      <td>I too saw this movie when it first came out. I...</td>\n",
              "      <td>1</td>\n",
              "    </tr>\n",
              "    <tr>\n",
              "      <th>24998</th>\n",
              "      <td>I thought this was a very daring representatio...</td>\n",
              "      <td>1</td>\n",
              "    </tr>\n",
              "    <tr>\n",
              "      <th>24999</th>\n",
              "      <td>I saw this film at Temple University. I cannot...</td>\n",
              "      <td>0</td>\n",
              "    </tr>\n",
              "  </tbody>\n",
              "</table>\n",
              "<p>25000 rows × 2 columns</p>\n",
              "</div>\n",
              "      <button class=\"colab-df-convert\" onclick=\"convertToInteractive('df-ed82dffe-0d02-4e16-9621-d3b6be31c6d5')\"\n",
              "              title=\"Convert this dataframe to an interactive table.\"\n",
              "              style=\"display:none;\">\n",
              "        \n",
              "  <svg xmlns=\"http://www.w3.org/2000/svg\" height=\"24px\"viewBox=\"0 0 24 24\"\n",
              "       width=\"24px\">\n",
              "    <path d=\"M0 0h24v24H0V0z\" fill=\"none\"/>\n",
              "    <path d=\"M18.56 5.44l.94 2.06.94-2.06 2.06-.94-2.06-.94-.94-2.06-.94 2.06-2.06.94zm-11 1L8.5 8.5l.94-2.06 2.06-.94-2.06-.94L8.5 2.5l-.94 2.06-2.06.94zm10 10l.94 2.06.94-2.06 2.06-.94-2.06-.94-.94-2.06-.94 2.06-2.06.94z\"/><path d=\"M17.41 7.96l-1.37-1.37c-.4-.4-.92-.59-1.43-.59-.52 0-1.04.2-1.43.59L10.3 9.45l-7.72 7.72c-.78.78-.78 2.05 0 2.83L4 21.41c.39.39.9.59 1.41.59.51 0 1.02-.2 1.41-.59l7.78-7.78 2.81-2.81c.8-.78.8-2.07 0-2.86zM5.41 20L4 18.59l7.72-7.72 1.47 1.35L5.41 20z\"/>\n",
              "  </svg>\n",
              "      </button>\n",
              "      \n",
              "  <style>\n",
              "    .colab-df-container {\n",
              "      display:flex;\n",
              "      flex-wrap:wrap;\n",
              "      gap: 12px;\n",
              "    }\n",
              "\n",
              "    .colab-df-convert {\n",
              "      background-color: #E8F0FE;\n",
              "      border: none;\n",
              "      border-radius: 50%;\n",
              "      cursor: pointer;\n",
              "      display: none;\n",
              "      fill: #1967D2;\n",
              "      height: 32px;\n",
              "      padding: 0 0 0 0;\n",
              "      width: 32px;\n",
              "    }\n",
              "\n",
              "    .colab-df-convert:hover {\n",
              "      background-color: #E2EBFA;\n",
              "      box-shadow: 0px 1px 2px rgba(60, 64, 67, 0.3), 0px 1px 3px 1px rgba(60, 64, 67, 0.15);\n",
              "      fill: #174EA6;\n",
              "    }\n",
              "\n",
              "    [theme=dark] .colab-df-convert {\n",
              "      background-color: #3B4455;\n",
              "      fill: #D2E3FC;\n",
              "    }\n",
              "\n",
              "    [theme=dark] .colab-df-convert:hover {\n",
              "      background-color: #434B5C;\n",
              "      box-shadow: 0px 1px 3px 1px rgba(0, 0, 0, 0.15);\n",
              "      filter: drop-shadow(0px 1px 2px rgba(0, 0, 0, 0.3));\n",
              "      fill: #FFFFFF;\n",
              "    }\n",
              "  </style>\n",
              "\n",
              "      <script>\n",
              "        const buttonEl =\n",
              "          document.querySelector('#df-ed82dffe-0d02-4e16-9621-d3b6be31c6d5 button.colab-df-convert');\n",
              "        buttonEl.style.display =\n",
              "          google.colab.kernel.accessAllowed ? 'block' : 'none';\n",
              "\n",
              "        async function convertToInteractive(key) {\n",
              "          const element = document.querySelector('#df-ed82dffe-0d02-4e16-9621-d3b6be31c6d5');\n",
              "          const dataTable =\n",
              "            await google.colab.kernel.invokeFunction('convertToInteractive',\n",
              "                                                     [key], {});\n",
              "          if (!dataTable) return;\n",
              "\n",
              "          const docLinkHtml = 'Like what you see? Visit the ' +\n",
              "            '<a target=\"_blank\" href=https://colab.research.google.com/notebooks/data_table.ipynb>data table notebook</a>'\n",
              "            + ' to learn more about interactive tables.';\n",
              "          element.innerHTML = '';\n",
              "          dataTable['output_type'] = 'display_data';\n",
              "          await google.colab.output.renderOutput(dataTable, element);\n",
              "          const docLink = document.createElement('div');\n",
              "          docLink.innerHTML = docLinkHtml;\n",
              "          element.appendChild(docLink);\n",
              "        }\n",
              "      </script>\n",
              "    </div>\n",
              "  </div>\n",
              "  "
            ],
            "text/plain": [
              "                                                  review  sentiment\n",
              "0      Text Taken from 2001 Melbourne International F...          1\n",
              "1      OK, first off there may be a SPOILER here sinc...          0\n",
              "2      A good old-fashioned flight-and-revenge wester...          1\n",
              "3      Andaz Apna Apna is a movie that I treasure and...          1\n",
              "4      Some people say this show was good in it's ear...          0\n",
              "...                                                  ...        ...\n",
              "24995  William Petersen (that C.S.I guy) has a small ...          0\n",
              "24996  I never read the book. Now I don't really want...          0\n",
              "24997  I too saw this movie when it first came out. I...          1\n",
              "24998  I thought this was a very daring representatio...          1\n",
              "24999  I saw this film at Temple University. I cannot...          0\n",
              "\n",
              "[25000 rows x 2 columns]"
            ]
          },
          "execution_count": 29,
          "metadata": {},
          "output_type": "execute_result"
        }
      ],
      "source": [
        "print('# testings:')\n",
        "test_data"
      ]
    },
    {
      "cell_type": "markdown",
      "metadata": {
        "id": "YBoXg5igX3Ne"
      },
      "source": [
        "# **Prétraitement du dataSet**\n",
        "\n",
        "> Depuis que cet ensemble de données a été extrait du Web, certains codes HTML y ont été mélangés. Il est donc nécessaire de nettoyer ces textes en supprimant les balises HTML. Supprimer les nombres, les ponctuations et les mots vides, remplacer le verbe de contraction négatif par des formes complètes comme will't, diviser les noms composés qui sont faits avec un trait d'union comme l'état de l'art, et normaliser les textes en les abaissant serait être bénéfique."
      ]
    },
    {
      "cell_type": "code",
      "execution_count": 30,
      "metadata": {
        "colab": {
          "base_uri": "https://localhost:8080/"
        },
        "id": "jYgL7UDl3Obs",
        "outputId": "1a59033d-0413-423c-a49d-244b687d8de7"
      },
      "outputs": [
        {
          "name": "stdout",
          "output_type": "stream",
          "text": [
            "Total reviews in df:  (50000, 2)\n"
          ]
        }
      ],
      "source": [
        "df_dataset = pd.concat([train_data,test_data], ignore_index=True)\n",
        "print(\"Total reviews in df: \", df_dataset.shape)"
      ]
    },
    {
      "cell_type": "code",
      "execution_count": 31,
      "metadata": {
        "id": "9Xy9xyBXX4pi"
      },
      "outputs": [],
      "source": [
        "stop_words = set(stopwords.words('english'))\n",
        "lemma = nltk.WordNetLemmatizer()\n",
        "stop_words.remove('not')\n",
        "\n",
        "def text_preprocessing(doc):\n",
        "  \n",
        "\n",
        "  #enlevons les caractères indésirables\n",
        "  doc = re.sub(re.compile('<.*?>'), '', doc)\n",
        "  doc = re.sub(re.compile('[^A-Za-z0-9]+'),' ',doc)\n",
        "\n",
        "  #rendons toutes les lettres minuscules\n",
        "  doc = doc.lower()\n",
        "\n",
        "  #séparons le commentaire en tokens\n",
        "  tokens = word_tokenize(doc)\n",
        "\n",
        "  #enlevons les stop_words anglais du commentaire\n",
        "  raw_tokens_list = [w for w in tokens if w not in stop_words]\n",
        "\n",
        "  #lemmatization pour conserver les sens des tokens\n",
        "  cleaned_tokens_list =  [lemma.lemmatize(i) for i in raw_tokens_list]\n",
        "\n",
        "  #rassemblons les tokens\n",
        "  final_tokens = ' '.join(cleaned_tokens_list)\n",
        "\n",
        "  return final_tokens\n",
        "#appliquons cette fonction à chaque review de notre dataset\n",
        "df_dataset['preprocessed_tokens'] = df_dataset['review'].apply(lambda review: text_preprocessing(review))\n",
        "train_data['preprocessed_tokens'] = train_data['review'].apply(lambda review: text_preprocessing(review))\n",
        "test_data['preprocessed_tokens'] = test_data['review'].apply(lambda review: text_preprocessing(review))"
      ]
    },
    {
      "cell_type": "code",
      "execution_count": 32,
      "metadata": {
        "colab": {
          "base_uri": "https://localhost:8080/",
          "height": 424
        },
        "id": "7gmfJBxY2iA-",
        "outputId": "cfa6251f-1720-4b1a-879e-2bdbb0c18d38"
      },
      "outputs": [
        {
          "data": {
            "text/html": [
              "\n",
              "  <div id=\"df-e022f2d4-d743-4085-8398-3a842aa0a6a8\">\n",
              "    <div class=\"colab-df-container\">\n",
              "      <div>\n",
              "<style scoped>\n",
              "    .dataframe tbody tr th:only-of-type {\n",
              "        vertical-align: middle;\n",
              "    }\n",
              "\n",
              "    .dataframe tbody tr th {\n",
              "        vertical-align: top;\n",
              "    }\n",
              "\n",
              "    .dataframe thead th {\n",
              "        text-align: right;\n",
              "    }\n",
              "</style>\n",
              "<table border=\"1\" class=\"dataframe\">\n",
              "  <thead>\n",
              "    <tr style=\"text-align: right;\">\n",
              "      <th></th>\n",
              "      <th>review</th>\n",
              "      <th>sentiment</th>\n",
              "      <th>preprocessed_tokens</th>\n",
              "    </tr>\n",
              "  </thead>\n",
              "  <tbody>\n",
              "    <tr>\n",
              "      <th>0</th>\n",
              "      <td>Boy what a dud this mess was.But it only lasts...</td>\n",
              "      <td>0</td>\n",
              "      <td>boy dud mess last hour paid buck live unlike e...</td>\n",
              "    </tr>\n",
              "    <tr>\n",
              "      <th>1</th>\n",
              "      <td>Just when you thought it was safe to go back i...</td>\n",
              "      <td>0</td>\n",
              "      <td>thought safe go back water another computer ge...</td>\n",
              "    </tr>\n",
              "    <tr>\n",
              "      <th>2</th>\n",
              "      <td>I enjoyed this movie, granted it is mainly bec...</td>\n",
              "      <td>1</td>\n",
              "      <td>enjoyed movie granted mainly enjoy seeing sean...</td>\n",
              "    </tr>\n",
              "    <tr>\n",
              "      <th>3</th>\n",
              "      <td>This film pulls you in from the get-go because...</td>\n",
              "      <td>1</td>\n",
              "      <td>film pull get go grab attention acknowledging ...</td>\n",
              "    </tr>\n",
              "    <tr>\n",
              "      <th>4</th>\n",
              "      <td>I loved the episode but seems to me there shou...</td>\n",
              "      <td>1</td>\n",
              "      <td>loved episode seems quick reference secretary ...</td>\n",
              "    </tr>\n",
              "    <tr>\n",
              "      <th>...</th>\n",
              "      <td>...</td>\n",
              "      <td>...</td>\n",
              "      <td>...</td>\n",
              "    </tr>\n",
              "    <tr>\n",
              "      <th>49995</th>\n",
              "      <td>William Petersen (that C.S.I guy) has a small ...</td>\n",
              "      <td>0</td>\n",
              "      <td>william petersen c guy small uncredited role b...</td>\n",
              "    </tr>\n",
              "    <tr>\n",
              "      <th>49996</th>\n",
              "      <td>I never read the book. Now I don't really want...</td>\n",
              "      <td>0</td>\n",
              "      <td>never read book really want clue movie walked ...</td>\n",
              "    </tr>\n",
              "    <tr>\n",
              "      <th>49997</th>\n",
              "      <td>I too saw this movie when it first came out. I...</td>\n",
              "      <td>1</td>\n",
              "      <td>saw movie first came teenager time saw girl fr...</td>\n",
              "    </tr>\n",
              "    <tr>\n",
              "      <th>49998</th>\n",
              "      <td>I thought this was a very daring representatio...</td>\n",
              "      <td>1</td>\n",
              "      <td>thought daring representation old hokey tarzan...</td>\n",
              "    </tr>\n",
              "    <tr>\n",
              "      <th>49999</th>\n",
              "      <td>I saw this film at Temple University. I cannot...</td>\n",
              "      <td>0</td>\n",
              "      <td>saw film temple university not imaging anyone ...</td>\n",
              "    </tr>\n",
              "  </tbody>\n",
              "</table>\n",
              "<p>50000 rows × 3 columns</p>\n",
              "</div>\n",
              "      <button class=\"colab-df-convert\" onclick=\"convertToInteractive('df-e022f2d4-d743-4085-8398-3a842aa0a6a8')\"\n",
              "              title=\"Convert this dataframe to an interactive table.\"\n",
              "              style=\"display:none;\">\n",
              "        \n",
              "  <svg xmlns=\"http://www.w3.org/2000/svg\" height=\"24px\"viewBox=\"0 0 24 24\"\n",
              "       width=\"24px\">\n",
              "    <path d=\"M0 0h24v24H0V0z\" fill=\"none\"/>\n",
              "    <path d=\"M18.56 5.44l.94 2.06.94-2.06 2.06-.94-2.06-.94-.94-2.06-.94 2.06-2.06.94zm-11 1L8.5 8.5l.94-2.06 2.06-.94-2.06-.94L8.5 2.5l-.94 2.06-2.06.94zm10 10l.94 2.06.94-2.06 2.06-.94-2.06-.94-.94-2.06-.94 2.06-2.06.94z\"/><path d=\"M17.41 7.96l-1.37-1.37c-.4-.4-.92-.59-1.43-.59-.52 0-1.04.2-1.43.59L10.3 9.45l-7.72 7.72c-.78.78-.78 2.05 0 2.83L4 21.41c.39.39.9.59 1.41.59.51 0 1.02-.2 1.41-.59l7.78-7.78 2.81-2.81c.8-.78.8-2.07 0-2.86zM5.41 20L4 18.59l7.72-7.72 1.47 1.35L5.41 20z\"/>\n",
              "  </svg>\n",
              "      </button>\n",
              "      \n",
              "  <style>\n",
              "    .colab-df-container {\n",
              "      display:flex;\n",
              "      flex-wrap:wrap;\n",
              "      gap: 12px;\n",
              "    }\n",
              "\n",
              "    .colab-df-convert {\n",
              "      background-color: #E8F0FE;\n",
              "      border: none;\n",
              "      border-radius: 50%;\n",
              "      cursor: pointer;\n",
              "      display: none;\n",
              "      fill: #1967D2;\n",
              "      height: 32px;\n",
              "      padding: 0 0 0 0;\n",
              "      width: 32px;\n",
              "    }\n",
              "\n",
              "    .colab-df-convert:hover {\n",
              "      background-color: #E2EBFA;\n",
              "      box-shadow: 0px 1px 2px rgba(60, 64, 67, 0.3), 0px 1px 3px 1px rgba(60, 64, 67, 0.15);\n",
              "      fill: #174EA6;\n",
              "    }\n",
              "\n",
              "    [theme=dark] .colab-df-convert {\n",
              "      background-color: #3B4455;\n",
              "      fill: #D2E3FC;\n",
              "    }\n",
              "\n",
              "    [theme=dark] .colab-df-convert:hover {\n",
              "      background-color: #434B5C;\n",
              "      box-shadow: 0px 1px 3px 1px rgba(0, 0, 0, 0.15);\n",
              "      filter: drop-shadow(0px 1px 2px rgba(0, 0, 0, 0.3));\n",
              "      fill: #FFFFFF;\n",
              "    }\n",
              "  </style>\n",
              "\n",
              "      <script>\n",
              "        const buttonEl =\n",
              "          document.querySelector('#df-e022f2d4-d743-4085-8398-3a842aa0a6a8 button.colab-df-convert');\n",
              "        buttonEl.style.display =\n",
              "          google.colab.kernel.accessAllowed ? 'block' : 'none';\n",
              "\n",
              "        async function convertToInteractive(key) {\n",
              "          const element = document.querySelector('#df-e022f2d4-d743-4085-8398-3a842aa0a6a8');\n",
              "          const dataTable =\n",
              "            await google.colab.kernel.invokeFunction('convertToInteractive',\n",
              "                                                     [key], {});\n",
              "          if (!dataTable) return;\n",
              "\n",
              "          const docLinkHtml = 'Like what you see? Visit the ' +\n",
              "            '<a target=\"_blank\" href=https://colab.research.google.com/notebooks/data_table.ipynb>data table notebook</a>'\n",
              "            + ' to learn more about interactive tables.';\n",
              "          element.innerHTML = '';\n",
              "          dataTable['output_type'] = 'display_data';\n",
              "          await google.colab.output.renderOutput(dataTable, element);\n",
              "          const docLink = document.createElement('div');\n",
              "          docLink.innerHTML = docLinkHtml;\n",
              "          element.appendChild(docLink);\n",
              "        }\n",
              "      </script>\n",
              "    </div>\n",
              "  </div>\n",
              "  "
            ],
            "text/plain": [
              "                                                  review  sentiment  \\\n",
              "0      Boy what a dud this mess was.But it only lasts...          0   \n",
              "1      Just when you thought it was safe to go back i...          0   \n",
              "2      I enjoyed this movie, granted it is mainly bec...          1   \n",
              "3      This film pulls you in from the get-go because...          1   \n",
              "4      I loved the episode but seems to me there shou...          1   \n",
              "...                                                  ...        ...   \n",
              "49995  William Petersen (that C.S.I guy) has a small ...          0   \n",
              "49996  I never read the book. Now I don't really want...          0   \n",
              "49997  I too saw this movie when it first came out. I...          1   \n",
              "49998  I thought this was a very daring representatio...          1   \n",
              "49999  I saw this film at Temple University. I cannot...          0   \n",
              "\n",
              "                                     preprocessed_tokens  \n",
              "0      boy dud mess last hour paid buck live unlike e...  \n",
              "1      thought safe go back water another computer ge...  \n",
              "2      enjoyed movie granted mainly enjoy seeing sean...  \n",
              "3      film pull get go grab attention acknowledging ...  \n",
              "4      loved episode seems quick reference secretary ...  \n",
              "...                                                  ...  \n",
              "49995  william petersen c guy small uncredited role b...  \n",
              "49996  never read book really want clue movie walked ...  \n",
              "49997  saw movie first came teenager time saw girl fr...  \n",
              "49998  thought daring representation old hokey tarzan...  \n",
              "49999  saw film temple university not imaging anyone ...  \n",
              "\n",
              "[50000 rows x 3 columns]"
            ]
          },
          "execution_count": 32,
          "metadata": {},
          "output_type": "execute_result"
        }
      ],
      "source": [
        "df_dataset"
      ]
    },
    {
      "cell_type": "code",
      "execution_count": 33,
      "metadata": {
        "colab": {
          "base_uri": "https://localhost:8080/"
        },
        "id": "SYfYSkFe9mzH",
        "outputId": "fbf86691-4acb-4452-9017-5124b139b3e4"
      },
      "outputs": [
        {
          "name": "stdout",
          "output_type": "stream",
          "text": [
            "Train data: (25000, 2) (25000,)\n",
            "Test data: (25000, 2) (25000,)\n"
          ]
        }
      ],
      "source": [
        "training = train_data.copy()\n",
        "testing = test_data.copy()\n",
        "y_training = training['sentiment'].values\n",
        "y_testing = testing['sentiment'].values\n",
        "training.drop(['sentiment'], axis=1, inplace=True)\n",
        "testing.drop(['sentiment'], axis=1, inplace=True)\n",
        "\n",
        "X_train = training\n",
        "X_test = testing\n",
        "Y_train = y_training\n",
        "Y_test = y_testing\n",
        "\n",
        "\n",
        "\n",
        "print(\"Train data:\",  X_train.shape, Y_train.shape)\n",
        "print(\"Test data:\",  X_test.shape, Y_test.shape)\n"
      ]
    },
    {
      "cell_type": "markdown",
      "metadata": {
        "id": "O-jw8-9p6vgN"
      },
      "source": [
        "## **Vectorisation**\n",
        "\n",
        "> Pour présenter nos données à nos classificateurs, à l’exception de l’arbre de décision, nous devons convertir chaque review en entités numériques."
      ]
    },
    {
      "cell_type": "code",
      "execution_count": 34,
      "metadata": {
        "colab": {
          "base_uri": "https://localhost:8080/"
        },
        "id": "eg3wtg-33m6k",
        "outputId": "dc18fec8-1804-44ad-ded6-8a7d5c6d47b6"
      },
      "outputs": [
        {
          "name": "stdout",
          "output_type": "stream",
          "text": [
            "X_train_review_bow shape:  (25000, 16554)\n",
            "X_test_review_bow shape:  (25000, 16554)\n"
          ]
        }
      ],
      "source": [
        "vect = CountVectorizer(min_df=10)\n",
        "\n",
        "X_train_review_bow = vect.fit_transform(X_train['preprocessed_tokens'])\n",
        "X_test_review_bow = vect.transform(X_test['preprocessed_tokens'])\n",
        "\n",
        "print('X_train_review_bow shape: ', X_train_review_bow.shape)\n",
        "print('X_test_review_bow shape: ', X_test_review_bow.shape)\n"
      ]
    },
    {
      "cell_type": "markdown",
      "metadata": {
        "id": "aAGNSN3oAwex"
      },
      "source": [
        "# **Classification**"
      ]
    },
    {
      "cell_type": "markdown",
      "metadata": {
        "id": "8jOHPgpyA2Tg"
      },
      "source": [
        "## **Classification Naïve de Bayes**"
      ]
    },
    {
      "cell_type": "markdown",
      "metadata": {
        "id": "XVqmF9Q1A8S8"
      },
      "source": [
        "> **Entrainnement du modèle**"
      ]
    },
    {
      "cell_type": "code",
      "execution_count": 35,
      "metadata": {
        "colab": {
          "base_uri": "https://localhost:8080/"
        },
        "id": "aetuaicx_n0a",
        "outputId": "c5e67b95-1579-4307-f322-913873de85b0"
      },
      "outputs": [
        {
          "data": {
            "text/plain": [
              "MultinomialNB()"
            ]
          },
          "execution_count": 35,
          "metadata": {},
          "output_type": "execute_result"
        }
      ],
      "source": [
        "naive_classifier = MultinomialNB()\n",
        "naive_classifier.fit(X_train_review_bow, Y_train)"
      ]
    },
    {
      "cell_type": "markdown",
      "metadata": {
        "id": "9Q2WXG2XBFcU"
      },
      "source": [
        "> **Evaluation du modèle et resultats**"
      ]
    },
    {
      "cell_type": "code",
      "execution_count": 36,
      "metadata": {
        "colab": {
          "base_uri": "https://localhost:8080/"
        },
        "id": "2bYYG4fTBVW0",
        "outputId": "0be0db7d-3aee-4931-8b37-bf154964beac"
      },
      "outputs": [
        {
          "name": "stdout",
          "output_type": "stream",
          "text": [
            "Précision :  0.82908\n"
          ]
        }
      ],
      "source": [
        "Y_predicted_naive = naive_classifier.predict(X_test_review_bow)\n",
        "print('Précision : ', accuracy_score(Y_test, Y_predicted_naive))"
      ]
    },
    {
      "cell_type": "code",
      "execution_count": 36,
      "metadata": {
        "id": "IWDQ71itDroc"
      },
      "outputs": [],
      "source": []
    },
    {
      "cell_type": "code",
      "execution_count": 36,
      "metadata": {
        "id": "bZmTWnPUDvz1"
      },
      "outputs": [],
      "source": []
    },
    {
      "cell_type": "markdown",
      "metadata": {
        "id": "Y27YoFh-Cmna"
      },
      "source": [
        "## **Classification Par Arbre de décision**"
      ]
    },
    {
      "cell_type": "markdown",
      "metadata": {
        "id": "_E4xp8o3DReV"
      },
      "source": [
        "> **Entrainnement du modèle**"
      ]
    },
    {
      "cell_type": "code",
      "execution_count": 37,
      "metadata": {
        "colab": {
          "base_uri": "https://localhost:8080/"
        },
        "id": "Gemvs1niBEFi",
        "outputId": "6915162e-799d-4da9-bdbd-6b2f343f82dd"
      },
      "outputs": [
        {
          "data": {
            "text/plain": [
              "DecisionTreeClassifier(criterion='entropy', max_depth=5)"
            ]
          },
          "execution_count": 37,
          "metadata": {},
          "output_type": "execute_result"
        }
      ],
      "source": [
        "decision_tree_classifier = DecisionTreeClassifier(criterion=\"entropy\", max_depth = 5)\n",
        "decision_tree_classifier\n",
        "\n",
        "decision_tree_classifier.fit(X_train_review_bow, Y_train)"
      ]
    },
    {
      "cell_type": "markdown",
      "metadata": {
        "id": "0QOJI1zCFmj_"
      },
      "source": [
        "> **Evaluation du modèle et resultats**"
      ]
    },
    {
      "cell_type": "code",
      "execution_count": 38,
      "metadata": {
        "colab": {
          "base_uri": "https://localhost:8080/"
        },
        "id": "IpETYS2ZFry0",
        "outputId": "aa8dcf3a-b8df-42c6-c66a-4b6f2666aee1"
      },
      "outputs": [
        {
          "name": "stdout",
          "output_type": "stream",
          "text": [
            "Test Accuracy:  0.69444\n"
          ]
        }
      ],
      "source": [
        "Y_predicted_decision_tree=decision_tree_classifier.predict(X_test_review_bow)\n",
        "print('Test Accuracy: ', accuracy_score(Y_test, Y_predicted_decision_tree))"
      ]
    },
    {
      "cell_type": "markdown",
      "metadata": {
        "id": "OzsZyu5zFzIB"
      },
      "source": [
        "> **Affichage de l'arbre de décision**"
      ]
    },
    {
      "cell_type": "code",
      "execution_count": 39,
      "metadata": {
        "colab": {
          "base_uri": "https://localhost:8080/",
          "height": 834
        },
        "id": "Iq5jcPPiFyNT",
        "outputId": "337af0c2-1784-467d-9cf7-87ed7ba84988"
      },
      "outputs": [
        {
          "data": {
            "image/svg+xml": "<?xml version=\"1.0\" encoding=\"UTF-8\" standalone=\"no\"?>\n<!DOCTYPE svg PUBLIC \"-//W3C//DTD SVG 1.1//EN\"\n \"http://www.w3.org/Graphics/SVG/1.1/DTD/svg11.dtd\">\n<!-- Generated by graphviz version 2.40.1 (20161225.0304)\n -->\n<!-- Title: Tree Pages: 1 -->\n<svg width=\"3938pt\" height=\"581pt\"\n viewBox=\"0.00 0.00 3938.00 581.00\" xmlns=\"http://www.w3.org/2000/svg\" xmlns:xlink=\"http://www.w3.org/1999/xlink\">\n<g id=\"graph0\" class=\"graph\" transform=\"scale(1 1) rotate(0) translate(4 577)\">\n<title>Tree</title>\n<polygon fill=\"#ffffff\" stroke=\"transparent\" points=\"-4,4 -4,-577 3934,-577 3934,4 -4,4\"/>\n<!-- 0 -->\n<g id=\"node1\" class=\"node\">\n<title>0</title>\n<polygon fill=\"none\" stroke=\"#000000\" points=\"2268,-573 2103,-573 2103,-505 2268,-505 2268,-573\"/>\n<text text-anchor=\"middle\" x=\"2185.5\" y=\"-557.8\" font-family=\"Helvetica,sans-Serif\" font-size=\"14.00\" fill=\"#000000\">X[1287] &lt;= 0.5</text>\n<text text-anchor=\"middle\" x=\"2185.5\" y=\"-542.8\" font-family=\"Helvetica,sans-Serif\" font-size=\"14.00\" fill=\"#000000\">entropy = 1.0</text>\n<text text-anchor=\"middle\" x=\"2185.5\" y=\"-527.8\" font-family=\"Helvetica,sans-Serif\" font-size=\"14.00\" fill=\"#000000\">samples = 25000</text>\n<text text-anchor=\"middle\" x=\"2185.5\" y=\"-512.8\" font-family=\"Helvetica,sans-Serif\" font-size=\"14.00\" fill=\"#000000\">value = [12500, 12500]</text>\n</g>\n<!-- 1 -->\n<g id=\"node2\" class=\"node\">\n<title>1</title>\n<polygon fill=\"none\" stroke=\"#000000\" points=\"1722,-469 1565,-469 1565,-401 1722,-401 1722,-469\"/>\n<text text-anchor=\"middle\" x=\"1643.5\" y=\"-453.8\" font-family=\"Helvetica,sans-Serif\" font-size=\"14.00\" fill=\"#000000\">X[16393] &lt;= 0.5</text>\n<text text-anchor=\"middle\" x=\"1643.5\" y=\"-438.8\" font-family=\"Helvetica,sans-Serif\" font-size=\"14.00\" fill=\"#000000\">entropy = 0.983</text>\n<text text-anchor=\"middle\" x=\"1643.5\" y=\"-423.8\" font-family=\"Helvetica,sans-Serif\" font-size=\"14.00\" fill=\"#000000\">samples = 19096</text>\n<text text-anchor=\"middle\" x=\"1643.5\" y=\"-408.8\" font-family=\"Helvetica,sans-Serif\" font-size=\"14.00\" fill=\"#000000\">value = [8095, 11001]</text>\n</g>\n<!-- 0&#45;&gt;1 -->\n<g id=\"edge1\" class=\"edge\">\n<title>0&#45;&gt;1</title>\n<path fill=\"none\" stroke=\"#000000\" d=\"M2102.8871,-523.1481C2002.7968,-503.9426 1834.8492,-471.7164 1732.1278,-452.0061\"/>\n<polygon fill=\"#000000\" stroke=\"#000000\" points=\"1732.5684,-448.5268 1722.088,-450.0796 1731.2492,-455.4014 1732.5684,-448.5268\"/>\n<text text-anchor=\"middle\" x=\"1736.1177\" y=\"-467.0718\" font-family=\"Helvetica,sans-Serif\" font-size=\"14.00\" fill=\"#000000\">True</text>\n</g>\n<!-- 32 -->\n<g id=\"node33\" class=\"node\">\n<title>32</title>\n<polygon fill=\"none\" stroke=\"#000000\" points=\"2812,-469 2663,-469 2663,-401 2812,-401 2812,-469\"/>\n<text text-anchor=\"middle\" x=\"2737.5\" y=\"-453.8\" font-family=\"Helvetica,sans-Serif\" font-size=\"14.00\" fill=\"#000000\">X[16393] &lt;= 0.5</text>\n<text text-anchor=\"middle\" x=\"2737.5\" y=\"-438.8\" font-family=\"Helvetica,sans-Serif\" font-size=\"14.00\" fill=\"#000000\">entropy = 0.817</text>\n<text text-anchor=\"middle\" x=\"2737.5\" y=\"-423.8\" font-family=\"Helvetica,sans-Serif\" font-size=\"14.00\" fill=\"#000000\">samples = 5904</text>\n<text text-anchor=\"middle\" x=\"2737.5\" y=\"-408.8\" font-family=\"Helvetica,sans-Serif\" font-size=\"14.00\" fill=\"#000000\">value = [4405, 1499]</text>\n</g>\n<!-- 0&#45;&gt;32 -->\n<g id=\"edge32\" class=\"edge\">\n<title>0&#45;&gt;32</title>\n<path fill=\"none\" stroke=\"#000000\" d=\"M2268.14,-523.4301C2371.7192,-503.9152 2548.3139,-470.6438 2652.8345,-450.9515\"/>\n<polygon fill=\"#000000\" stroke=\"#000000\" points=\"2653.5405,-454.3801 2662.7195,-449.0891 2652.2444,-447.5011 2653.5405,-454.3801\"/>\n<text text-anchor=\"middle\" x=\"2648.6205\" y=\"-466.0341\" font-family=\"Helvetica,sans-Serif\" font-size=\"14.00\" fill=\"#000000\">False</text>\n</g>\n<!-- 2 -->\n<g id=\"node3\" class=\"node\">\n<title>2</title>\n<polygon fill=\"none\" stroke=\"#000000\" points=\"949,-365 792,-365 792,-297 949,-297 949,-365\"/>\n<text text-anchor=\"middle\" x=\"870.5\" y=\"-349.8\" font-family=\"Helvetica,sans-Serif\" font-size=\"14.00\" fill=\"#000000\">X[16080] &lt;= 0.5</text>\n<text text-anchor=\"middle\" x=\"870.5\" y=\"-334.8\" font-family=\"Helvetica,sans-Serif\" font-size=\"14.00\" fill=\"#000000\">entropy = 0.967</text>\n<text text-anchor=\"middle\" x=\"870.5\" y=\"-319.8\" font-family=\"Helvetica,sans-Serif\" font-size=\"14.00\" fill=\"#000000\">samples = 17866</text>\n<text text-anchor=\"middle\" x=\"870.5\" y=\"-304.8\" font-family=\"Helvetica,sans-Serif\" font-size=\"14.00\" fill=\"#000000\">value = [7033, 10833]</text>\n</g>\n<!-- 1&#45;&gt;2 -->\n<g id=\"edge2\" class=\"edge\">\n<title>1&#45;&gt;2</title>\n<path fill=\"none\" stroke=\"#000000\" d=\"M1564.7677,-424.4073C1419.8506,-404.91 1111.8065,-363.4656 959.5267,-342.9777\"/>\n<polygon fill=\"#000000\" stroke=\"#000000\" points=\"959.6579,-339.4639 949.2805,-341.5992 958.7245,-346.4014 959.6579,-339.4639\"/>\n</g>\n<!-- 17 -->\n<g id=\"node18\" class=\"node\">\n<title>17</title>\n<polygon fill=\"none\" stroke=\"#000000\" points=\"1713.5,-365 1573.5,-365 1573.5,-297 1713.5,-297 1713.5,-365\"/>\n<text text-anchor=\"middle\" x=\"1643.5\" y=\"-349.8\" font-family=\"Helvetica,sans-Serif\" font-size=\"14.00\" fill=\"#000000\">X[1591] &lt;= 0.5</text>\n<text text-anchor=\"middle\" x=\"1643.5\" y=\"-334.8\" font-family=\"Helvetica,sans-Serif\" font-size=\"14.00\" fill=\"#000000\">entropy = 0.575</text>\n<text text-anchor=\"middle\" x=\"1643.5\" y=\"-319.8\" font-family=\"Helvetica,sans-Serif\" font-size=\"14.00\" fill=\"#000000\">samples = 1230</text>\n<text text-anchor=\"middle\" x=\"1643.5\" y=\"-304.8\" font-family=\"Helvetica,sans-Serif\" font-size=\"14.00\" fill=\"#000000\">value = [1062, 168]</text>\n</g>\n<!-- 1&#45;&gt;17 -->\n<g id=\"edge17\" class=\"edge\">\n<title>1&#45;&gt;17</title>\n<path fill=\"none\" stroke=\"#000000\" d=\"M1643.5,-400.9465C1643.5,-392.776 1643.5,-383.9318 1643.5,-375.3697\"/>\n<polygon fill=\"#000000\" stroke=\"#000000\" points=\"1647.0001,-375.13 1643.5,-365.13 1640.0001,-375.13 1647.0001,-375.13\"/>\n</g>\n<!-- 3 -->\n<g id=\"node4\" class=\"node\">\n<title>3</title>\n<polygon fill=\"none\" stroke=\"#000000\" points=\"539,-261 382,-261 382,-193 539,-193 539,-261\"/>\n<text text-anchor=\"middle\" x=\"460.5\" y=\"-245.8\" font-family=\"Helvetica,sans-Serif\" font-size=\"14.00\" fill=\"#000000\">X[6577] &lt;= 0.5</text>\n<text text-anchor=\"middle\" x=\"460.5\" y=\"-230.8\" font-family=\"Helvetica,sans-Serif\" font-size=\"14.00\" fill=\"#000000\">entropy = 0.954</text>\n<text text-anchor=\"middle\" x=\"460.5\" y=\"-215.8\" font-family=\"Helvetica,sans-Serif\" font-size=\"14.00\" fill=\"#000000\">samples = 17177</text>\n<text text-anchor=\"middle\" x=\"460.5\" y=\"-200.8\" font-family=\"Helvetica,sans-Serif\" font-size=\"14.00\" fill=\"#000000\">value = [6421, 10756]</text>\n</g>\n<!-- 2&#45;&gt;3 -->\n<g id=\"edge3\" class=\"edge\">\n<title>2&#45;&gt;3</title>\n<path fill=\"none\" stroke=\"#000000\" d=\"M791.933,-311.0708C722.5345,-293.4673 621.4207,-267.8189 549.1498,-249.4868\"/>\n<polygon fill=\"#000000\" stroke=\"#000000\" points=\"549.7034,-246.0164 539.1498,-246.9502 547.9823,-252.8016 549.7034,-246.0164\"/>\n</g>\n<!-- 10 -->\n<g id=\"node11\" class=\"node\">\n<title>10</title>\n<polygon fill=\"none\" stroke=\"#000000\" points=\"932.5,-261 808.5,-261 808.5,-193 932.5,-193 932.5,-261\"/>\n<text text-anchor=\"middle\" x=\"870.5\" y=\"-245.8\" font-family=\"Helvetica,sans-Serif\" font-size=\"14.00\" fill=\"#000000\">X[4849] &lt;= 0.5</text>\n<text text-anchor=\"middle\" x=\"870.5\" y=\"-230.8\" font-family=\"Helvetica,sans-Serif\" font-size=\"14.00\" fill=\"#000000\">entropy = 0.505</text>\n<text text-anchor=\"middle\" x=\"870.5\" y=\"-215.8\" font-family=\"Helvetica,sans-Serif\" font-size=\"14.00\" fill=\"#000000\">samples = 689</text>\n<text text-anchor=\"middle\" x=\"870.5\" y=\"-200.8\" font-family=\"Helvetica,sans-Serif\" font-size=\"14.00\" fill=\"#000000\">value = [612, 77]</text>\n</g>\n<!-- 2&#45;&gt;10 -->\n<g id=\"edge10\" class=\"edge\">\n<title>2&#45;&gt;10</title>\n<path fill=\"none\" stroke=\"#000000\" d=\"M870.5,-296.9465C870.5,-288.776 870.5,-279.9318 870.5,-271.3697\"/>\n<polygon fill=\"#000000\" stroke=\"#000000\" points=\"874.0001,-271.13 870.5,-261.13 867.0001,-271.13 874.0001,-271.13\"/>\n</g>\n<!-- 4 -->\n<g id=\"node5\" class=\"node\">\n<title>4</title>\n<polygon fill=\"none\" stroke=\"#000000\" points=\"303,-157 154,-157 154,-89 303,-89 303,-157\"/>\n<text text-anchor=\"middle\" x=\"228.5\" y=\"-141.8\" font-family=\"Helvetica,sans-Serif\" font-size=\"14.00\" fill=\"#000000\">X[1241] &lt;= 0.5</text>\n<text text-anchor=\"middle\" x=\"228.5\" y=\"-126.8\" font-family=\"Helvetica,sans-Serif\" font-size=\"14.00\" fill=\"#000000\">entropy = 0.984</text>\n<text text-anchor=\"middle\" x=\"228.5\" y=\"-111.8\" font-family=\"Helvetica,sans-Serif\" font-size=\"14.00\" fill=\"#000000\">samples = 12567</text>\n<text text-anchor=\"middle\" x=\"228.5\" y=\"-96.8\" font-family=\"Helvetica,sans-Serif\" font-size=\"14.00\" fill=\"#000000\">value = [5361, 7206]</text>\n</g>\n<!-- 3&#45;&gt;4 -->\n<g id=\"edge4\" class=\"edge\">\n<title>3&#45;&gt;4</title>\n<path fill=\"none\" stroke=\"#000000\" d=\"M384.5345,-192.9465C361.4351,-182.5916 335.9214,-171.1544 312.3344,-160.5809\"/>\n<polygon fill=\"#000000\" stroke=\"#000000\" points=\"313.6102,-157.3173 303.0534,-156.4205 310.7467,-163.7049 313.6102,-157.3173\"/>\n</g>\n<!-- 7 -->\n<g id=\"node8\" class=\"node\">\n<title>7</title>\n<polygon fill=\"none\" stroke=\"#000000\" points=\"535,-157 386,-157 386,-89 535,-89 535,-157\"/>\n<text text-anchor=\"middle\" x=\"460.5\" y=\"-141.8\" font-family=\"Helvetica,sans-Serif\" font-size=\"14.00\" fill=\"#000000\">X[1241] &lt;= 0.5</text>\n<text text-anchor=\"middle\" x=\"460.5\" y=\"-126.8\" font-family=\"Helvetica,sans-Serif\" font-size=\"14.00\" fill=\"#000000\">entropy = 0.778</text>\n<text text-anchor=\"middle\" x=\"460.5\" y=\"-111.8\" font-family=\"Helvetica,sans-Serif\" font-size=\"14.00\" fill=\"#000000\">samples = 4610</text>\n<text text-anchor=\"middle\" x=\"460.5\" y=\"-96.8\" font-family=\"Helvetica,sans-Serif\" font-size=\"14.00\" fill=\"#000000\">value = [1060, 3550]</text>\n</g>\n<!-- 3&#45;&gt;7 -->\n<g id=\"edge7\" class=\"edge\">\n<title>3&#45;&gt;7</title>\n<path fill=\"none\" stroke=\"#000000\" d=\"M460.5,-192.9465C460.5,-184.776 460.5,-175.9318 460.5,-167.3697\"/>\n<polygon fill=\"#000000\" stroke=\"#000000\" points=\"464.0001,-167.13 460.5,-157.13 457.0001,-167.13 464.0001,-167.13\"/>\n</g>\n<!-- 5 -->\n<g id=\"node6\" class=\"node\">\n<title>5</title>\n<polygon fill=\"none\" stroke=\"#000000\" points=\"149,-53 0,-53 0,0 149,0 149,-53\"/>\n<text text-anchor=\"middle\" x=\"74.5\" y=\"-37.8\" font-family=\"Helvetica,sans-Serif\" font-size=\"14.00\" fill=\"#000000\">entropy = 0.977</text>\n<text text-anchor=\"middle\" x=\"74.5\" y=\"-22.8\" font-family=\"Helvetica,sans-Serif\" font-size=\"14.00\" fill=\"#000000\">samples = 12104</text>\n<text text-anchor=\"middle\" x=\"74.5\" y=\"-7.8\" font-family=\"Helvetica,sans-Serif\" font-size=\"14.00\" fill=\"#000000\">value = [4963, 7141]</text>\n</g>\n<!-- 4&#45;&gt;5 -->\n<g id=\"edge5\" class=\"edge\">\n<title>4&#45;&gt;5</title>\n<path fill=\"none\" stroke=\"#000000\" d=\"M174.2054,-88.9777C158.5692,-79.1798 141.5613,-68.5222 126.0937,-58.8298\"/>\n<polygon fill=\"#000000\" stroke=\"#000000\" points=\"127.519,-55.5926 117.1867,-53.2485 123.802,-61.5242 127.519,-55.5926\"/>\n</g>\n<!-- 6 -->\n<g id=\"node7\" class=\"node\">\n<title>6</title>\n<polygon fill=\"none\" stroke=\"#000000\" points=\"290.5,-53 166.5,-53 166.5,0 290.5,0 290.5,-53\"/>\n<text text-anchor=\"middle\" x=\"228.5\" y=\"-37.8\" font-family=\"Helvetica,sans-Serif\" font-size=\"14.00\" fill=\"#000000\">entropy = 0.585</text>\n<text text-anchor=\"middle\" x=\"228.5\" y=\"-22.8\" font-family=\"Helvetica,sans-Serif\" font-size=\"14.00\" fill=\"#000000\">samples = 463</text>\n<text text-anchor=\"middle\" x=\"228.5\" y=\"-7.8\" font-family=\"Helvetica,sans-Serif\" font-size=\"14.00\" fill=\"#000000\">value = [398, 65]</text>\n</g>\n<!-- 4&#45;&gt;6 -->\n<g id=\"edge6\" class=\"edge\">\n<title>4&#45;&gt;6</title>\n<path fill=\"none\" stroke=\"#000000\" d=\"M228.5,-88.9777C228.5,-80.7364 228.5,-71.887 228.5,-63.5153\"/>\n<polygon fill=\"#000000\" stroke=\"#000000\" points=\"232.0001,-63.2484 228.5,-53.2485 225.0001,-63.2485 232.0001,-63.2484\"/>\n</g>\n<!-- 8 -->\n<g id=\"node9\" class=\"node\">\n<title>8</title>\n<polygon fill=\"none\" stroke=\"#000000\" points=\"448.5,-53 308.5,-53 308.5,0 448.5,0 448.5,-53\"/>\n<text text-anchor=\"middle\" x=\"378.5\" y=\"-37.8\" font-family=\"Helvetica,sans-Serif\" font-size=\"14.00\" fill=\"#000000\">entropy = 0.756</text>\n<text text-anchor=\"middle\" x=\"378.5\" y=\"-22.8\" font-family=\"Helvetica,sans-Serif\" font-size=\"14.00\" fill=\"#000000\">samples = 4493</text>\n<text text-anchor=\"middle\" x=\"378.5\" y=\"-7.8\" font-family=\"Helvetica,sans-Serif\" font-size=\"14.00\" fill=\"#000000\">value = [978, 3515]</text>\n</g>\n<!-- 7&#45;&gt;8 -->\n<g id=\"edge8\" class=\"edge\">\n<title>7&#45;&gt;8</title>\n<path fill=\"none\" stroke=\"#000000\" d=\"M431.5899,-88.9777C423.8866,-79.9123 415.5581,-70.111 407.8324,-61.0192\"/>\n<polygon fill=\"#000000\" stroke=\"#000000\" points=\"410.3718,-58.6025 401.2293,-53.2485 405.0375,-63.1352 410.3718,-58.6025\"/>\n</g>\n<!-- 9 -->\n<g id=\"node10\" class=\"node\">\n<title>9</title>\n<polygon fill=\"none\" stroke=\"#000000\" points=\"582.5,-53 466.5,-53 466.5,0 582.5,0 582.5,-53\"/>\n<text text-anchor=\"middle\" x=\"524.5\" y=\"-37.8\" font-family=\"Helvetica,sans-Serif\" font-size=\"14.00\" fill=\"#000000\">entropy = 0.88</text>\n<text text-anchor=\"middle\" x=\"524.5\" y=\"-22.8\" font-family=\"Helvetica,sans-Serif\" font-size=\"14.00\" fill=\"#000000\">samples = 117</text>\n<text text-anchor=\"middle\" x=\"524.5\" y=\"-7.8\" font-family=\"Helvetica,sans-Serif\" font-size=\"14.00\" fill=\"#000000\">value = [82, 35]</text>\n</g>\n<!-- 7&#45;&gt;9 -->\n<g id=\"edge9\" class=\"edge\">\n<title>7&#45;&gt;9</title>\n<path fill=\"none\" stroke=\"#000000\" d=\"M483.064,-88.9777C488.8941,-80.187 495.1831,-70.7044 501.057,-61.8477\"/>\n<polygon fill=\"#000000\" stroke=\"#000000\" points=\"504.1498,-63.5167 506.7601,-53.2485 498.3162,-59.6478 504.1498,-63.5167\"/>\n</g>\n<!-- 11 -->\n<g id=\"node12\" class=\"node\">\n<title>11</title>\n<polygon fill=\"none\" stroke=\"#000000\" points=\"862.5,-157 738.5,-157 738.5,-89 862.5,-89 862.5,-157\"/>\n<text text-anchor=\"middle\" x=\"800.5\" y=\"-141.8\" font-family=\"Helvetica,sans-Serif\" font-size=\"14.00\" fill=\"#000000\">X[669] &lt;= 0.5</text>\n<text text-anchor=\"middle\" x=\"800.5\" y=\"-126.8\" font-family=\"Helvetica,sans-Serif\" font-size=\"14.00\" fill=\"#000000\">entropy = 0.478</text>\n<text text-anchor=\"middle\" x=\"800.5\" y=\"-111.8\" font-family=\"Helvetica,sans-Serif\" font-size=\"14.00\" fill=\"#000000\">samples = 681</text>\n<text text-anchor=\"middle\" x=\"800.5\" y=\"-96.8\" font-family=\"Helvetica,sans-Serif\" font-size=\"14.00\" fill=\"#000000\">value = [611, 70]</text>\n</g>\n<!-- 10&#45;&gt;11 -->\n<g id=\"edge11\" class=\"edge\">\n<title>10&#45;&gt;11</title>\n<path fill=\"none\" stroke=\"#000000\" d=\"M847.5794,-192.9465C841.7174,-184.2373 835.3402,-174.7626 829.227,-165.6801\"/>\n<polygon fill=\"#000000\" stroke=\"#000000\" points=\"831.9595,-163.4716 823.4721,-157.13 826.1524,-167.3802 831.9595,-163.4716\"/>\n</g>\n<!-- 14 -->\n<g id=\"node15\" class=\"node\">\n<title>14</title>\n<polygon fill=\"none\" stroke=\"#000000\" points=\"998.5,-157 880.5,-157 880.5,-89 998.5,-89 998.5,-157\"/>\n<text text-anchor=\"middle\" x=\"939.5\" y=\"-141.8\" font-family=\"Helvetica,sans-Serif\" font-size=\"14.00\" fill=\"#000000\">X[4863] &lt;= 0.5</text>\n<text text-anchor=\"middle\" x=\"939.5\" y=\"-126.8\" font-family=\"Helvetica,sans-Serif\" font-size=\"14.00\" fill=\"#000000\">entropy = 0.544</text>\n<text text-anchor=\"middle\" x=\"939.5\" y=\"-111.8\" font-family=\"Helvetica,sans-Serif\" font-size=\"14.00\" fill=\"#000000\">samples = 8</text>\n<text text-anchor=\"middle\" x=\"939.5\" y=\"-96.8\" font-family=\"Helvetica,sans-Serif\" font-size=\"14.00\" fill=\"#000000\">value = [1, 7]</text>\n</g>\n<!-- 10&#45;&gt;14 -->\n<g id=\"edge14\" class=\"edge\">\n<title>10&#45;&gt;14</title>\n<path fill=\"none\" stroke=\"#000000\" d=\"M893.0932,-192.9465C898.8714,-184.2373 905.1575,-174.7626 911.1834,-165.6801\"/>\n<polygon fill=\"#000000\" stroke=\"#000000\" points=\"914.244,-167.3978 916.8561,-157.13 908.411,-163.5278 914.244,-167.3978\"/>\n</g>\n<!-- 12 -->\n<g id=\"node13\" class=\"node\">\n<title>12</title>\n<polygon fill=\"none\" stroke=\"#000000\" points=\"724.5,-53 600.5,-53 600.5,0 724.5,0 724.5,-53\"/>\n<text text-anchor=\"middle\" x=\"662.5\" y=\"-37.8\" font-family=\"Helvetica,sans-Serif\" font-size=\"14.00\" fill=\"#000000\">entropy = 0.378</text>\n<text text-anchor=\"middle\" x=\"662.5\" y=\"-22.8\" font-family=\"Helvetica,sans-Serif\" font-size=\"14.00\" fill=\"#000000\">samples = 545</text>\n<text text-anchor=\"middle\" x=\"662.5\" y=\"-7.8\" font-family=\"Helvetica,sans-Serif\" font-size=\"14.00\" fill=\"#000000\">value = [505, 40]</text>\n</g>\n<!-- 11&#45;&gt;12 -->\n<g id=\"edge12\" class=\"edge\">\n<title>11&#45;&gt;12</title>\n<path fill=\"none\" stroke=\"#000000\" d=\"M751.8464,-88.9777C737.9657,-79.2713 722.8786,-68.7213 709.1223,-59.1018\"/>\n<polygon fill=\"#000000\" stroke=\"#000000\" points=\"710.9526,-56.1109 700.7517,-53.2485 706.9411,-61.8475 710.9526,-56.1109\"/>\n</g>\n<!-- 13 -->\n<g id=\"node14\" class=\"node\">\n<title>13</title>\n<polygon fill=\"none\" stroke=\"#000000\" points=\"866.5,-53 742.5,-53 742.5,0 866.5,0 866.5,-53\"/>\n<text text-anchor=\"middle\" x=\"804.5\" y=\"-37.8\" font-family=\"Helvetica,sans-Serif\" font-size=\"14.00\" fill=\"#000000\">entropy = 0.761</text>\n<text text-anchor=\"middle\" x=\"804.5\" y=\"-22.8\" font-family=\"Helvetica,sans-Serif\" font-size=\"14.00\" fill=\"#000000\">samples = 136</text>\n<text text-anchor=\"middle\" x=\"804.5\" y=\"-7.8\" font-family=\"Helvetica,sans-Serif\" font-size=\"14.00\" fill=\"#000000\">value = [106, 30]</text>\n</g>\n<!-- 11&#45;&gt;13 -->\n<g id=\"edge13\" class=\"edge\">\n<title>11&#45;&gt;13</title>\n<path fill=\"none\" stroke=\"#000000\" d=\"M801.9103,-88.9777C802.2519,-80.7364 802.6187,-71.887 802.9657,-63.5153\"/>\n<polygon fill=\"#000000\" stroke=\"#000000\" points=\"806.474,-63.3849 803.3913,-53.2485 799.48,-63.0949 806.474,-63.3849\"/>\n</g>\n<!-- 15 -->\n<g id=\"node16\" class=\"node\">\n<title>15</title>\n<polygon fill=\"none\" stroke=\"#000000\" points=\"986,-53 885,-53 885,0 986,0 986,-53\"/>\n<text text-anchor=\"middle\" x=\"935.5\" y=\"-37.8\" font-family=\"Helvetica,sans-Serif\" font-size=\"14.00\" fill=\"#000000\">entropy = 0.0</text>\n<text text-anchor=\"middle\" x=\"935.5\" y=\"-22.8\" font-family=\"Helvetica,sans-Serif\" font-size=\"14.00\" fill=\"#000000\">samples = 7</text>\n<text text-anchor=\"middle\" x=\"935.5\" y=\"-7.8\" font-family=\"Helvetica,sans-Serif\" font-size=\"14.00\" fill=\"#000000\">value = [0, 7]</text>\n</g>\n<!-- 14&#45;&gt;15 -->\n<g id=\"edge15\" class=\"edge\">\n<title>14&#45;&gt;15</title>\n<path fill=\"none\" stroke=\"#000000\" d=\"M938.0897,-88.9777C937.7481,-80.7364 937.3813,-71.887 937.0343,-63.5153\"/>\n<polygon fill=\"#000000\" stroke=\"#000000\" points=\"940.52,-63.0949 936.6087,-53.2485 933.526,-63.3849 940.52,-63.0949\"/>\n</g>\n<!-- 16 -->\n<g id=\"node17\" class=\"node\">\n<title>16</title>\n<polygon fill=\"none\" stroke=\"#000000\" points=\"1105,-53 1004,-53 1004,0 1105,0 1105,-53\"/>\n<text text-anchor=\"middle\" x=\"1054.5\" y=\"-37.8\" font-family=\"Helvetica,sans-Serif\" font-size=\"14.00\" fill=\"#000000\">entropy = 0.0</text>\n<text text-anchor=\"middle\" x=\"1054.5\" y=\"-22.8\" font-family=\"Helvetica,sans-Serif\" font-size=\"14.00\" fill=\"#000000\">samples = 1</text>\n<text text-anchor=\"middle\" x=\"1054.5\" y=\"-7.8\" font-family=\"Helvetica,sans-Serif\" font-size=\"14.00\" fill=\"#000000\">value = [1, 0]</text>\n</g>\n<!-- 14&#45;&gt;16 -->\n<g id=\"edge16\" class=\"edge\">\n<title>14&#45;&gt;16</title>\n<path fill=\"none\" stroke=\"#000000\" d=\"M980.0447,-88.9777C991.2845,-79.546 1003.4736,-69.3178 1014.6721,-59.9208\"/>\n<polygon fill=\"#000000\" stroke=\"#000000\" points=\"1017.213,-62.3576 1022.6236,-53.2485 1012.7134,-56.9954 1017.213,-62.3576\"/>\n</g>\n<!-- 18 -->\n<g id=\"node19\" class=\"node\">\n<title>18</title>\n<polygon fill=\"none\" stroke=\"#000000\" points=\"1580.5,-261 1456.5,-261 1456.5,-193 1580.5,-193 1580.5,-261\"/>\n<text text-anchor=\"middle\" x=\"1518.5\" y=\"-245.8\" font-family=\"Helvetica,sans-Serif\" font-size=\"14.00\" fill=\"#000000\">X[5263] &lt;= 0.5</text>\n<text text-anchor=\"middle\" x=\"1518.5\" y=\"-230.8\" font-family=\"Helvetica,sans-Serif\" font-size=\"14.00\" fill=\"#000000\">entropy = 0.465</text>\n<text text-anchor=\"middle\" x=\"1518.5\" y=\"-215.8\" font-family=\"Helvetica,sans-Serif\" font-size=\"14.00\" fill=\"#000000\">samples = 1002</text>\n<text text-anchor=\"middle\" x=\"1518.5\" y=\"-200.8\" font-family=\"Helvetica,sans-Serif\" font-size=\"14.00\" fill=\"#000000\">value = [903, 99]</text>\n</g>\n<!-- 17&#45;&gt;18 -->\n<g id=\"edge18\" class=\"edge\">\n<title>17&#45;&gt;18</title>\n<path fill=\"none\" stroke=\"#000000\" d=\"M1602.5703,-296.9465C1591.3472,-287.6088 1579.0663,-277.3911 1567.4427,-267.7203\"/>\n<polygon fill=\"#000000\" stroke=\"#000000\" points=\"1569.4474,-264.8353 1559.5216,-261.13 1564.9704,-270.2164 1569.4474,-264.8353\"/>\n</g>\n<!-- 25 -->\n<g id=\"node26\" class=\"node\">\n<title>25</title>\n<polygon fill=\"none\" stroke=\"#000000\" points=\"1831.5,-261 1707.5,-261 1707.5,-193 1831.5,-193 1831.5,-261\"/>\n<text text-anchor=\"middle\" x=\"1769.5\" y=\"-245.8\" font-family=\"Helvetica,sans-Serif\" font-size=\"14.00\" fill=\"#000000\">X[1465] &lt;= 0.5</text>\n<text text-anchor=\"middle\" x=\"1769.5\" y=\"-230.8\" font-family=\"Helvetica,sans-Serif\" font-size=\"14.00\" fill=\"#000000\">entropy = 0.884</text>\n<text text-anchor=\"middle\" x=\"1769.5\" y=\"-215.8\" font-family=\"Helvetica,sans-Serif\" font-size=\"14.00\" fill=\"#000000\">samples = 228</text>\n<text text-anchor=\"middle\" x=\"1769.5\" y=\"-200.8\" font-family=\"Helvetica,sans-Serif\" font-size=\"14.00\" fill=\"#000000\">value = [159, 69]</text>\n</g>\n<!-- 17&#45;&gt;25 -->\n<g id=\"edge25\" class=\"edge\">\n<title>17&#45;&gt;25</title>\n<path fill=\"none\" stroke=\"#000000\" d=\"M1684.7571,-296.9465C1696.0701,-287.6088 1708.4492,-277.3911 1720.1658,-267.7203\"/>\n<polygon fill=\"#000000\" stroke=\"#000000\" points=\"1722.6659,-270.195 1728.1502,-261.13 1718.21,-264.7964 1722.6659,-270.195\"/>\n</g>\n<!-- 19 -->\n<g id=\"node20\" class=\"node\">\n<title>19</title>\n<polygon fill=\"none\" stroke=\"#000000\" points=\"1378.5,-157 1254.5,-157 1254.5,-89 1378.5,-89 1378.5,-157\"/>\n<text text-anchor=\"middle\" x=\"1316.5\" y=\"-141.8\" font-family=\"Helvetica,sans-Serif\" font-size=\"14.00\" fill=\"#000000\">X[13737] &lt;= 1.5</text>\n<text text-anchor=\"middle\" x=\"1316.5\" y=\"-126.8\" font-family=\"Helvetica,sans-Serif\" font-size=\"14.00\" fill=\"#000000\">entropy = 0.636</text>\n<text text-anchor=\"middle\" x=\"1316.5\" y=\"-111.8\" font-family=\"Helvetica,sans-Serif\" font-size=\"14.00\" fill=\"#000000\">samples = 485</text>\n<text text-anchor=\"middle\" x=\"1316.5\" y=\"-96.8\" font-family=\"Helvetica,sans-Serif\" font-size=\"14.00\" fill=\"#000000\">value = [407, 78]</text>\n</g>\n<!-- 18&#45;&gt;19 -->\n<g id=\"edge19\" class=\"edge\">\n<title>18&#45;&gt;19</title>\n<path fill=\"none\" stroke=\"#000000\" d=\"M1456.2451,-194.948C1434.5435,-183.7749 1410.0291,-171.1536 1387.6601,-159.6369\"/>\n<polygon fill=\"#000000\" stroke=\"#000000\" points=\"1389.0423,-156.4119 1378.5494,-154.9462 1385.8381,-162.6355 1389.0423,-156.4119\"/>\n</g>\n<!-- 22 -->\n<g id=\"node23\" class=\"node\">\n<title>22</title>\n<polygon fill=\"none\" stroke=\"#000000\" points=\"1580.5,-157 1456.5,-157 1456.5,-89 1580.5,-89 1580.5,-157\"/>\n<text text-anchor=\"middle\" x=\"1518.5\" y=\"-141.8\" font-family=\"Helvetica,sans-Serif\" font-size=\"14.00\" fill=\"#000000\">X[5312] &lt;= 0.5</text>\n<text text-anchor=\"middle\" x=\"1518.5\" y=\"-126.8\" font-family=\"Helvetica,sans-Serif\" font-size=\"14.00\" fill=\"#000000\">entropy = 0.245</text>\n<text text-anchor=\"middle\" x=\"1518.5\" y=\"-111.8\" font-family=\"Helvetica,sans-Serif\" font-size=\"14.00\" fill=\"#000000\">samples = 517</text>\n<text text-anchor=\"middle\" x=\"1518.5\" y=\"-96.8\" font-family=\"Helvetica,sans-Serif\" font-size=\"14.00\" fill=\"#000000\">value = [496, 21]</text>\n</g>\n<!-- 18&#45;&gt;22 -->\n<g id=\"edge22\" class=\"edge\">\n<title>18&#45;&gt;22</title>\n<path fill=\"none\" stroke=\"#000000\" d=\"M1518.5,-192.9465C1518.5,-184.776 1518.5,-175.9318 1518.5,-167.3697\"/>\n<polygon fill=\"#000000\" stroke=\"#000000\" points=\"1522.0001,-167.13 1518.5,-157.13 1515.0001,-167.13 1522.0001,-167.13\"/>\n</g>\n<!-- 20 -->\n<g id=\"node21\" class=\"node\">\n<title>20</title>\n<polygon fill=\"none\" stroke=\"#000000\" points=\"1247.5,-53 1123.5,-53 1123.5,0 1247.5,0 1247.5,-53\"/>\n<text text-anchor=\"middle\" x=\"1185.5\" y=\"-37.8\" font-family=\"Helvetica,sans-Serif\" font-size=\"14.00\" fill=\"#000000\">entropy = 0.606</text>\n<text text-anchor=\"middle\" x=\"1185.5\" y=\"-22.8\" font-family=\"Helvetica,sans-Serif\" font-size=\"14.00\" fill=\"#000000\">samples = 478</text>\n<text text-anchor=\"middle\" x=\"1185.5\" y=\"-7.8\" font-family=\"Helvetica,sans-Serif\" font-size=\"14.00\" fill=\"#000000\">value = [407, 71]</text>\n</g>\n<!-- 19&#45;&gt;20 -->\n<g id=\"edge20\" class=\"edge\">\n<title>19&#45;&gt;20</title>\n<path fill=\"none\" stroke=\"#000000\" d=\"M1270.3143,-88.9777C1257.2621,-79.3629 1243.0861,-68.9203 1230.1273,-59.3743\"/>\n<polygon fill=\"#000000\" stroke=\"#000000\" points=\"1231.9386,-56.3615 1221.8114,-53.2485 1227.7869,-61.9974 1231.9386,-56.3615\"/>\n</g>\n<!-- 21 -->\n<g id=\"node22\" class=\"node\">\n<title>21</title>\n<polygon fill=\"none\" stroke=\"#000000\" points=\"1367,-53 1266,-53 1266,0 1367,0 1367,-53\"/>\n<text text-anchor=\"middle\" x=\"1316.5\" y=\"-37.8\" font-family=\"Helvetica,sans-Serif\" font-size=\"14.00\" fill=\"#000000\">entropy = 0.0</text>\n<text text-anchor=\"middle\" x=\"1316.5\" y=\"-22.8\" font-family=\"Helvetica,sans-Serif\" font-size=\"14.00\" fill=\"#000000\">samples = 7</text>\n<text text-anchor=\"middle\" x=\"1316.5\" y=\"-7.8\" font-family=\"Helvetica,sans-Serif\" font-size=\"14.00\" fill=\"#000000\">value = [0, 7]</text>\n</g>\n<!-- 19&#45;&gt;21 -->\n<g id=\"edge21\" class=\"edge\">\n<title>19&#45;&gt;21</title>\n<path fill=\"none\" stroke=\"#000000\" d=\"M1316.5,-88.9777C1316.5,-80.7364 1316.5,-71.887 1316.5,-63.5153\"/>\n<polygon fill=\"#000000\" stroke=\"#000000\" points=\"1320.0001,-63.2484 1316.5,-53.2485 1313.0001,-63.2485 1320.0001,-63.2484\"/>\n</g>\n<!-- 23 -->\n<g id=\"node24\" class=\"node\">\n<title>23</title>\n<polygon fill=\"none\" stroke=\"#000000\" points=\"1509.5,-53 1385.5,-53 1385.5,0 1509.5,0 1509.5,-53\"/>\n<text text-anchor=\"middle\" x=\"1447.5\" y=\"-37.8\" font-family=\"Helvetica,sans-Serif\" font-size=\"14.00\" fill=\"#000000\">entropy = 0.211</text>\n<text text-anchor=\"middle\" x=\"1447.5\" y=\"-22.8\" font-family=\"Helvetica,sans-Serif\" font-size=\"14.00\" fill=\"#000000\">samples = 509</text>\n<text text-anchor=\"middle\" x=\"1447.5\" y=\"-7.8\" font-family=\"Helvetica,sans-Serif\" font-size=\"14.00\" fill=\"#000000\">value = [492, 17]</text>\n</g>\n<!-- 22&#45;&gt;23 -->\n<g id=\"edge23\" class=\"edge\">\n<title>22&#45;&gt;23</title>\n<path fill=\"none\" stroke=\"#000000\" d=\"M1493.4681,-88.9777C1486.9329,-80.0954 1479.878,-70.5067 1473.3036,-61.5711\"/>\n<polygon fill=\"#000000\" stroke=\"#000000\" points=\"1475.9257,-59.229 1467.1802,-53.2485 1470.2874,-63.3775 1475.9257,-59.229\"/>\n</g>\n<!-- 24 -->\n<g id=\"node25\" class=\"node\">\n<title>24</title>\n<polygon fill=\"none\" stroke=\"#000000\" points=\"1629,-53 1528,-53 1528,0 1629,0 1629,-53\"/>\n<text text-anchor=\"middle\" x=\"1578.5\" y=\"-37.8\" font-family=\"Helvetica,sans-Serif\" font-size=\"14.00\" fill=\"#000000\">entropy = 1.0</text>\n<text text-anchor=\"middle\" x=\"1578.5\" y=\"-22.8\" font-family=\"Helvetica,sans-Serif\" font-size=\"14.00\" fill=\"#000000\">samples = 8</text>\n<text text-anchor=\"middle\" x=\"1578.5\" y=\"-7.8\" font-family=\"Helvetica,sans-Serif\" font-size=\"14.00\" fill=\"#000000\">value = [4, 4]</text>\n</g>\n<!-- 22&#45;&gt;24 -->\n<g id=\"edge24\" class=\"edge\">\n<title>22&#45;&gt;24</title>\n<path fill=\"none\" stroke=\"#000000\" d=\"M1539.6538,-88.9777C1545.1195,-80.187 1551.0154,-70.7044 1556.5222,-61.8477\"/>\n<polygon fill=\"#000000\" stroke=\"#000000\" points=\"1559.5609,-63.5889 1561.8688,-53.2485 1553.6163,-59.8927 1559.5609,-63.5889\"/>\n</g>\n<!-- 26 -->\n<g id=\"node27\" class=\"node\">\n<title>26</title>\n<polygon fill=\"none\" stroke=\"#000000\" points=\"1831.5,-157 1707.5,-157 1707.5,-89 1831.5,-89 1831.5,-157\"/>\n<text text-anchor=\"middle\" x=\"1769.5\" y=\"-141.8\" font-family=\"Helvetica,sans-Serif\" font-size=\"14.00\" fill=\"#000000\">X[7605] &lt;= 0.5</text>\n<text text-anchor=\"middle\" x=\"1769.5\" y=\"-126.8\" font-family=\"Helvetica,sans-Serif\" font-size=\"14.00\" fill=\"#000000\">entropy = 0.821</text>\n<text text-anchor=\"middle\" x=\"1769.5\" y=\"-111.8\" font-family=\"Helvetica,sans-Serif\" font-size=\"14.00\" fill=\"#000000\">samples = 207</text>\n<text text-anchor=\"middle\" x=\"1769.5\" y=\"-96.8\" font-family=\"Helvetica,sans-Serif\" font-size=\"14.00\" fill=\"#000000\">value = [154, 53]</text>\n</g>\n<!-- 25&#45;&gt;26 -->\n<g id=\"edge26\" class=\"edge\">\n<title>25&#45;&gt;26</title>\n<path fill=\"none\" stroke=\"#000000\" d=\"M1769.5,-192.9465C1769.5,-184.776 1769.5,-175.9318 1769.5,-167.3697\"/>\n<polygon fill=\"#000000\" stroke=\"#000000\" points=\"1773.0001,-167.13 1769.5,-157.13 1766.0001,-167.13 1773.0001,-167.13\"/>\n</g>\n<!-- 29 -->\n<g id=\"node30\" class=\"node\">\n<title>29</title>\n<polygon fill=\"none\" stroke=\"#000000\" points=\"2027.5,-157 1909.5,-157 1909.5,-89 2027.5,-89 2027.5,-157\"/>\n<text text-anchor=\"middle\" x=\"1968.5\" y=\"-141.8\" font-family=\"Helvetica,sans-Serif\" font-size=\"14.00\" fill=\"#000000\">X[8683] &lt;= 0.5</text>\n<text text-anchor=\"middle\" x=\"1968.5\" y=\"-126.8\" font-family=\"Helvetica,sans-Serif\" font-size=\"14.00\" fill=\"#000000\">entropy = 0.792</text>\n<text text-anchor=\"middle\" x=\"1968.5\" y=\"-111.8\" font-family=\"Helvetica,sans-Serif\" font-size=\"14.00\" fill=\"#000000\">samples = 21</text>\n<text text-anchor=\"middle\" x=\"1968.5\" y=\"-96.8\" font-family=\"Helvetica,sans-Serif\" font-size=\"14.00\" fill=\"#000000\">value = [5, 16]</text>\n</g>\n<!-- 25&#45;&gt;29 -->\n<g id=\"edge29\" class=\"edge\">\n<title>25&#45;&gt;29</title>\n<path fill=\"none\" stroke=\"#000000\" d=\"M1831.6463,-194.5215C1853.3964,-183.1546 1877.9323,-170.3318 1900.1605,-158.7151\"/>\n<polygon fill=\"#000000\" stroke=\"#000000\" points=\"1901.9619,-161.7229 1909.2034,-153.9892 1898.7196,-155.519 1901.9619,-161.7229\"/>\n</g>\n<!-- 27 -->\n<g id=\"node28\" class=\"node\">\n<title>27</title>\n<polygon fill=\"none\" stroke=\"#000000\" points=\"1771.5,-53 1647.5,-53 1647.5,0 1771.5,0 1771.5,-53\"/>\n<text text-anchor=\"middle\" x=\"1709.5\" y=\"-37.8\" font-family=\"Helvetica,sans-Serif\" font-size=\"14.00\" fill=\"#000000\">entropy = 0.785</text>\n<text text-anchor=\"middle\" x=\"1709.5\" y=\"-22.8\" font-family=\"Helvetica,sans-Serif\" font-size=\"14.00\" fill=\"#000000\">samples = 201</text>\n<text text-anchor=\"middle\" x=\"1709.5\" y=\"-7.8\" font-family=\"Helvetica,sans-Serif\" font-size=\"14.00\" fill=\"#000000\">value = [154, 47]</text>\n</g>\n<!-- 26&#45;&gt;27 -->\n<g id=\"edge27\" class=\"edge\">\n<title>26&#45;&gt;27</title>\n<path fill=\"none\" stroke=\"#000000\" d=\"M1748.3462,-88.9777C1742.8805,-80.187 1736.9846,-70.7044 1731.4778,-61.8477\"/>\n<polygon fill=\"#000000\" stroke=\"#000000\" points=\"1734.3837,-59.8927 1726.1312,-53.2485 1728.4391,-63.5889 1734.3837,-59.8927\"/>\n</g>\n<!-- 28 -->\n<g id=\"node29\" class=\"node\">\n<title>28</title>\n<polygon fill=\"none\" stroke=\"#000000\" points=\"1891,-53 1790,-53 1790,0 1891,0 1891,-53\"/>\n<text text-anchor=\"middle\" x=\"1840.5\" y=\"-37.8\" font-family=\"Helvetica,sans-Serif\" font-size=\"14.00\" fill=\"#000000\">entropy = 0.0</text>\n<text text-anchor=\"middle\" x=\"1840.5\" y=\"-22.8\" font-family=\"Helvetica,sans-Serif\" font-size=\"14.00\" fill=\"#000000\">samples = 6</text>\n<text text-anchor=\"middle\" x=\"1840.5\" y=\"-7.8\" font-family=\"Helvetica,sans-Serif\" font-size=\"14.00\" fill=\"#000000\">value = [0, 6]</text>\n</g>\n<!-- 26&#45;&gt;28 -->\n<g id=\"edge28\" class=\"edge\">\n<title>26&#45;&gt;28</title>\n<path fill=\"none\" stroke=\"#000000\" d=\"M1794.5319,-88.9777C1801.0671,-80.0954 1808.122,-70.5067 1814.6964,-61.5711\"/>\n<polygon fill=\"#000000\" stroke=\"#000000\" points=\"1817.7126,-63.3775 1820.8198,-53.2485 1812.0743,-59.229 1817.7126,-63.3775\"/>\n</g>\n<!-- 30 -->\n<g id=\"node31\" class=\"node\">\n<title>30</title>\n<polygon fill=\"none\" stroke=\"#000000\" points=\"2027.5,-53 1909.5,-53 1909.5,0 2027.5,0 2027.5,-53\"/>\n<text text-anchor=\"middle\" x=\"1968.5\" y=\"-37.8\" font-family=\"Helvetica,sans-Serif\" font-size=\"14.00\" fill=\"#000000\">entropy = 0.991</text>\n<text text-anchor=\"middle\" x=\"1968.5\" y=\"-22.8\" font-family=\"Helvetica,sans-Serif\" font-size=\"14.00\" fill=\"#000000\">samples = 9</text>\n<text text-anchor=\"middle\" x=\"1968.5\" y=\"-7.8\" font-family=\"Helvetica,sans-Serif\" font-size=\"14.00\" fill=\"#000000\">value = [5, 4]</text>\n</g>\n<!-- 29&#45;&gt;30 -->\n<g id=\"edge30\" class=\"edge\">\n<title>29&#45;&gt;30</title>\n<path fill=\"none\" stroke=\"#000000\" d=\"M1968.5,-88.9777C1968.5,-80.7364 1968.5,-71.887 1968.5,-63.5153\"/>\n<polygon fill=\"#000000\" stroke=\"#000000\" points=\"1972.0001,-63.2484 1968.5,-53.2485 1965.0001,-63.2485 1972.0001,-63.2484\"/>\n</g>\n<!-- 31 -->\n<g id=\"node32\" class=\"node\">\n<title>31</title>\n<polygon fill=\"none\" stroke=\"#000000\" points=\"2153,-53 2046,-53 2046,0 2153,0 2153,-53\"/>\n<text text-anchor=\"middle\" x=\"2099.5\" y=\"-37.8\" font-family=\"Helvetica,sans-Serif\" font-size=\"14.00\" fill=\"#000000\">entropy = 0.0</text>\n<text text-anchor=\"middle\" x=\"2099.5\" y=\"-22.8\" font-family=\"Helvetica,sans-Serif\" font-size=\"14.00\" fill=\"#000000\">samples = 12</text>\n<text text-anchor=\"middle\" x=\"2099.5\" y=\"-7.8\" font-family=\"Helvetica,sans-Serif\" font-size=\"14.00\" fill=\"#000000\">value = [0, 12]</text>\n</g>\n<!-- 29&#45;&gt;31 -->\n<g id=\"edge31\" class=\"edge\">\n<title>29&#45;&gt;31</title>\n<path fill=\"none\" stroke=\"#000000\" d=\"M2014.6857,-88.9777C2027.7379,-79.3629 2041.9139,-68.9203 2054.8727,-59.3743\"/>\n<polygon fill=\"#000000\" stroke=\"#000000\" points=\"2057.2131,-61.9974 2063.1886,-53.2485 2053.0614,-56.3615 2057.2131,-61.9974\"/>\n</g>\n<!-- 33 -->\n<g id=\"node34\" class=\"node\">\n<title>33</title>\n<polygon fill=\"none\" stroke=\"#000000\" points=\"2812,-365 2663,-365 2663,-297 2812,-297 2812,-365\"/>\n<text text-anchor=\"middle\" x=\"2737.5\" y=\"-349.8\" font-family=\"Helvetica,sans-Serif\" font-size=\"14.00\" fill=\"#000000\">X[6577] &lt;= 0.5</text>\n<text text-anchor=\"middle\" x=\"2737.5\" y=\"-334.8\" font-family=\"Helvetica,sans-Serif\" font-size=\"14.00\" fill=\"#000000\">entropy = 0.876</text>\n<text text-anchor=\"middle\" x=\"2737.5\" y=\"-319.8\" font-family=\"Helvetica,sans-Serif\" font-size=\"14.00\" fill=\"#000000\">samples = 4865</text>\n<text text-anchor=\"middle\" x=\"2737.5\" y=\"-304.8\" font-family=\"Helvetica,sans-Serif\" font-size=\"14.00\" fill=\"#000000\">value = [3425, 1440]</text>\n</g>\n<!-- 32&#45;&gt;33 -->\n<g id=\"edge33\" class=\"edge\">\n<title>32&#45;&gt;33</title>\n<path fill=\"none\" stroke=\"#000000\" d=\"M2737.5,-400.9465C2737.5,-392.776 2737.5,-383.9318 2737.5,-375.3697\"/>\n<polygon fill=\"#000000\" stroke=\"#000000\" points=\"2741.0001,-375.13 2737.5,-365.13 2734.0001,-375.13 2741.0001,-375.13\"/>\n</g>\n<!-- 48 -->\n<g id=\"node49\" class=\"node\">\n<title>48</title>\n<polygon fill=\"none\" stroke=\"#000000\" points=\"3616.5,-365 3492.5,-365 3492.5,-297 3616.5,-297 3616.5,-365\"/>\n<text text-anchor=\"middle\" x=\"3554.5\" y=\"-349.8\" font-family=\"Helvetica,sans-Serif\" font-size=\"14.00\" fill=\"#000000\">X[1024] &lt;= 0.5</text>\n<text text-anchor=\"middle\" x=\"3554.5\" y=\"-334.8\" font-family=\"Helvetica,sans-Serif\" font-size=\"14.00\" fill=\"#000000\">entropy = 0.315</text>\n<text text-anchor=\"middle\" x=\"3554.5\" y=\"-319.8\" font-family=\"Helvetica,sans-Serif\" font-size=\"14.00\" fill=\"#000000\">samples = 1039</text>\n<text text-anchor=\"middle\" x=\"3554.5\" y=\"-304.8\" font-family=\"Helvetica,sans-Serif\" font-size=\"14.00\" fill=\"#000000\">value = [980, 59]</text>\n</g>\n<!-- 32&#45;&gt;48 -->\n<g id=\"edge48\" class=\"edge\">\n<title>32&#45;&gt;48</title>\n<path fill=\"none\" stroke=\"#000000\" d=\"M2812.1691,-425.495C2968.315,-405.6184 3327.6299,-359.8794 3481.9331,-340.2374\"/>\n<polygon fill=\"#000000\" stroke=\"#000000\" points=\"3482.7618,-343.6602 3492.2397,-338.9254 3481.8778,-336.7163 3482.7618,-343.6602\"/>\n</g>\n<!-- 34 -->\n<g id=\"node35\" class=\"node\">\n<title>34</title>\n<polygon fill=\"none\" stroke=\"#000000\" points=\"2674.5,-261 2534.5,-261 2534.5,-193 2674.5,-193 2674.5,-261\"/>\n<text text-anchor=\"middle\" x=\"2604.5\" y=\"-245.8\" font-family=\"Helvetica,sans-Serif\" font-size=\"14.00\" fill=\"#000000\">X[16080] &lt;= 0.5</text>\n<text text-anchor=\"middle\" x=\"2604.5\" y=\"-230.8\" font-family=\"Helvetica,sans-Serif\" font-size=\"14.00\" fill=\"#000000\">entropy = 0.787</text>\n<text text-anchor=\"middle\" x=\"2604.5\" y=\"-215.8\" font-family=\"Helvetica,sans-Serif\" font-size=\"14.00\" fill=\"#000000\">samples = 3644</text>\n<text text-anchor=\"middle\" x=\"2604.5\" y=\"-200.8\" font-family=\"Helvetica,sans-Serif\" font-size=\"14.00\" fill=\"#000000\">value = [2787, 857]</text>\n</g>\n<!-- 33&#45;&gt;34 -->\n<g id=\"edge34\" class=\"edge\">\n<title>33&#45;&gt;34</title>\n<path fill=\"none\" stroke=\"#000000\" d=\"M2693.9508,-296.9465C2681.8946,-287.519 2668.6911,-277.1946 2656.2184,-267.4415\"/>\n<polygon fill=\"#000000\" stroke=\"#000000\" points=\"2658.1806,-264.5328 2648.147,-261.13 2653.8686,-270.0471 2658.1806,-264.5328\"/>\n</g>\n<!-- 41 -->\n<g id=\"node42\" class=\"node\">\n<title>41</title>\n<polygon fill=\"none\" stroke=\"#000000\" points=\"2936.5,-261 2804.5,-261 2804.5,-193 2936.5,-193 2936.5,-261\"/>\n<text text-anchor=\"middle\" x=\"2870.5\" y=\"-245.8\" font-family=\"Helvetica,sans-Serif\" font-size=\"14.00\" fill=\"#000000\">X[1287] &lt;= 1.5</text>\n<text text-anchor=\"middle\" x=\"2870.5\" y=\"-230.8\" font-family=\"Helvetica,sans-Serif\" font-size=\"14.00\" fill=\"#000000\">entropy = 0.999</text>\n<text text-anchor=\"middle\" x=\"2870.5\" y=\"-215.8\" font-family=\"Helvetica,sans-Serif\" font-size=\"14.00\" fill=\"#000000\">samples = 1221</text>\n<text text-anchor=\"middle\" x=\"2870.5\" y=\"-200.8\" font-family=\"Helvetica,sans-Serif\" font-size=\"14.00\" fill=\"#000000\">value = [638, 583]</text>\n</g>\n<!-- 33&#45;&gt;41 -->\n<g id=\"edge41\" class=\"edge\">\n<title>33&#45;&gt;41</title>\n<path fill=\"none\" stroke=\"#000000\" d=\"M2781.0492,-296.9465C2793.1054,-287.519 2806.3089,-277.1946 2818.7816,-267.4415\"/>\n<polygon fill=\"#000000\" stroke=\"#000000\" points=\"2821.1314,-270.0471 2826.853,-261.13 2816.8194,-264.5328 2821.1314,-270.0471\"/>\n</g>\n<!-- 35 -->\n<g id=\"node36\" class=\"node\">\n<title>35</title>\n<polygon fill=\"none\" stroke=\"#000000\" points=\"2465.5,-157 2325.5,-157 2325.5,-89 2465.5,-89 2465.5,-157\"/>\n<text text-anchor=\"middle\" x=\"2395.5\" y=\"-141.8\" font-family=\"Helvetica,sans-Serif\" font-size=\"14.00\" fill=\"#000000\">X[1287] &lt;= 1.5</text>\n<text text-anchor=\"middle\" x=\"2395.5\" y=\"-126.8\" font-family=\"Helvetica,sans-Serif\" font-size=\"14.00\" fill=\"#000000\">entropy = 0.82</text>\n<text text-anchor=\"middle\" x=\"2395.5\" y=\"-111.8\" font-family=\"Helvetica,sans-Serif\" font-size=\"14.00\" fill=\"#000000\">samples = 3321</text>\n<text text-anchor=\"middle\" x=\"2395.5\" y=\"-96.8\" font-family=\"Helvetica,sans-Serif\" font-size=\"14.00\" fill=\"#000000\">value = [2472, 849]</text>\n</g>\n<!-- 34&#45;&gt;35 -->\n<g id=\"edge35\" class=\"edge\">\n<title>34&#45;&gt;35</title>\n<path fill=\"none\" stroke=\"#000000\" d=\"M2536.0656,-192.9465C2515.9472,-182.9354 2493.796,-171.9129 2473.1457,-161.6371\"/>\n<polygon fill=\"#000000\" stroke=\"#000000\" points=\"2474.6003,-158.4516 2464.0882,-157.13 2471.4817,-164.7185 2474.6003,-158.4516\"/>\n</g>\n<!-- 38 -->\n<g id=\"node39\" class=\"node\">\n<title>38</title>\n<polygon fill=\"none\" stroke=\"#000000\" points=\"2663.5,-157 2545.5,-157 2545.5,-89 2663.5,-89 2663.5,-157\"/>\n<text text-anchor=\"middle\" x=\"2604.5\" y=\"-141.8\" font-family=\"Helvetica,sans-Serif\" font-size=\"14.00\" fill=\"#000000\">X[9091] &lt;= 4.5</text>\n<text text-anchor=\"middle\" x=\"2604.5\" y=\"-126.8\" font-family=\"Helvetica,sans-Serif\" font-size=\"14.00\" fill=\"#000000\">entropy = 0.167</text>\n<text text-anchor=\"middle\" x=\"2604.5\" y=\"-111.8\" font-family=\"Helvetica,sans-Serif\" font-size=\"14.00\" fill=\"#000000\">samples = 323</text>\n<text text-anchor=\"middle\" x=\"2604.5\" y=\"-96.8\" font-family=\"Helvetica,sans-Serif\" font-size=\"14.00\" fill=\"#000000\">value = [315, 8]</text>\n</g>\n<!-- 34&#45;&gt;38 -->\n<g id=\"edge38\" class=\"edge\">\n<title>34&#45;&gt;38</title>\n<path fill=\"none\" stroke=\"#000000\" d=\"M2604.5,-192.9465C2604.5,-184.776 2604.5,-175.9318 2604.5,-167.3697\"/>\n<polygon fill=\"#000000\" stroke=\"#000000\" points=\"2608.0001,-167.13 2604.5,-157.13 2601.0001,-167.13 2608.0001,-167.13\"/>\n</g>\n<!-- 36 -->\n<g id=\"node37\" class=\"node\">\n<title>36</title>\n<polygon fill=\"none\" stroke=\"#000000\" points=\"2311.5,-53 2171.5,-53 2171.5,0 2311.5,0 2311.5,-53\"/>\n<text text-anchor=\"middle\" x=\"2241.5\" y=\"-37.8\" font-family=\"Helvetica,sans-Serif\" font-size=\"14.00\" fill=\"#000000\">entropy = 0.884</text>\n<text text-anchor=\"middle\" x=\"2241.5\" y=\"-22.8\" font-family=\"Helvetica,sans-Serif\" font-size=\"14.00\" fill=\"#000000\">samples = 2294</text>\n<text text-anchor=\"middle\" x=\"2241.5\" y=\"-7.8\" font-family=\"Helvetica,sans-Serif\" font-size=\"14.00\" fill=\"#000000\">value = [1601, 693]</text>\n</g>\n<!-- 35&#45;&gt;36 -->\n<g id=\"edge36\" class=\"edge\">\n<title>35&#45;&gt;36</title>\n<path fill=\"none\" stroke=\"#000000\" d=\"M2341.2054,-88.9777C2325.5692,-79.1798 2308.5613,-68.5222 2293.0937,-58.8298\"/>\n<polygon fill=\"#000000\" stroke=\"#000000\" points=\"2294.519,-55.5926 2284.1867,-53.2485 2290.802,-61.5242 2294.519,-55.5926\"/>\n</g>\n<!-- 37 -->\n<g id=\"node38\" class=\"node\">\n<title>37</title>\n<polygon fill=\"none\" stroke=\"#000000\" points=\"2461.5,-53 2329.5,-53 2329.5,0 2461.5,0 2461.5,-53\"/>\n<text text-anchor=\"middle\" x=\"2395.5\" y=\"-37.8\" font-family=\"Helvetica,sans-Serif\" font-size=\"14.00\" fill=\"#000000\">entropy = 0.615</text>\n<text text-anchor=\"middle\" x=\"2395.5\" y=\"-22.8\" font-family=\"Helvetica,sans-Serif\" font-size=\"14.00\" fill=\"#000000\">samples = 1027</text>\n<text text-anchor=\"middle\" x=\"2395.5\" y=\"-7.8\" font-family=\"Helvetica,sans-Serif\" font-size=\"14.00\" fill=\"#000000\">value = [871, 156]</text>\n</g>\n<!-- 35&#45;&gt;37 -->\n<g id=\"edge37\" class=\"edge\">\n<title>35&#45;&gt;37</title>\n<path fill=\"none\" stroke=\"#000000\" d=\"M2395.5,-88.9777C2395.5,-80.7364 2395.5,-71.887 2395.5,-63.5153\"/>\n<polygon fill=\"#000000\" stroke=\"#000000\" points=\"2399.0001,-63.2484 2395.5,-53.2485 2392.0001,-63.2485 2399.0001,-63.2484\"/>\n</g>\n<!-- 39 -->\n<g id=\"node40\" class=\"node\">\n<title>39</title>\n<polygon fill=\"none\" stroke=\"#000000\" points=\"2597.5,-53 2479.5,-53 2479.5,0 2597.5,0 2597.5,-53\"/>\n<text text-anchor=\"middle\" x=\"2538.5\" y=\"-37.8\" font-family=\"Helvetica,sans-Serif\" font-size=\"14.00\" fill=\"#000000\">entropy = 0.134</text>\n<text text-anchor=\"middle\" x=\"2538.5\" y=\"-22.8\" font-family=\"Helvetica,sans-Serif\" font-size=\"14.00\" fill=\"#000000\">samples = 321</text>\n<text text-anchor=\"middle\" x=\"2538.5\" y=\"-7.8\" font-family=\"Helvetica,sans-Serif\" font-size=\"14.00\" fill=\"#000000\">value = [315, 6]</text>\n</g>\n<!-- 38&#45;&gt;39 -->\n<g id=\"edge39\" class=\"edge\">\n<title>38&#45;&gt;39</title>\n<path fill=\"none\" stroke=\"#000000\" d=\"M2581.2309,-88.9777C2575.156,-80.0954 2568.5979,-70.5067 2562.4865,-61.5711\"/>\n<polygon fill=\"#000000\" stroke=\"#000000\" points=\"2565.3286,-59.5267 2556.7943,-53.2485 2559.5507,-63.4785 2565.3286,-59.5267\"/>\n</g>\n<!-- 40 -->\n<g id=\"node41\" class=\"node\">\n<title>40</title>\n<polygon fill=\"none\" stroke=\"#000000\" points=\"2717,-53 2616,-53 2616,0 2717,0 2717,-53\"/>\n<text text-anchor=\"middle\" x=\"2666.5\" y=\"-37.8\" font-family=\"Helvetica,sans-Serif\" font-size=\"14.00\" fill=\"#000000\">entropy = 0.0</text>\n<text text-anchor=\"middle\" x=\"2666.5\" y=\"-22.8\" font-family=\"Helvetica,sans-Serif\" font-size=\"14.00\" fill=\"#000000\">samples = 2</text>\n<text text-anchor=\"middle\" x=\"2666.5\" y=\"-7.8\" font-family=\"Helvetica,sans-Serif\" font-size=\"14.00\" fill=\"#000000\">value = [0, 2]</text>\n</g>\n<!-- 38&#45;&gt;40 -->\n<g id=\"edge40\" class=\"edge\">\n<title>38&#45;&gt;40</title>\n<path fill=\"none\" stroke=\"#000000\" d=\"M2626.3589,-88.9777C2632.0068,-80.187 2638.0993,-70.7044 2643.7896,-61.8477\"/>\n<polygon fill=\"#000000\" stroke=\"#000000\" points=\"2646.8537,-63.5536 2649.3144,-53.2485 2640.9644,-59.7698 2646.8537,-63.5536\"/>\n</g>\n<!-- 42 -->\n<g id=\"node43\" class=\"node\">\n<title>42</title>\n<polygon fill=\"none\" stroke=\"#000000\" points=\"2936.5,-157 2804.5,-157 2804.5,-89 2936.5,-89 2936.5,-157\"/>\n<text text-anchor=\"middle\" x=\"2870.5\" y=\"-141.8\" font-family=\"Helvetica,sans-Serif\" font-size=\"14.00\" fill=\"#000000\">X[669] &lt;= 0.5</text>\n<text text-anchor=\"middle\" x=\"2870.5\" y=\"-126.8\" font-family=\"Helvetica,sans-Serif\" font-size=\"14.00\" fill=\"#000000\">entropy = 0.993</text>\n<text text-anchor=\"middle\" x=\"2870.5\" y=\"-111.8\" font-family=\"Helvetica,sans-Serif\" font-size=\"14.00\" fill=\"#000000\">samples = 878</text>\n<text text-anchor=\"middle\" x=\"2870.5\" y=\"-96.8\" font-family=\"Helvetica,sans-Serif\" font-size=\"14.00\" fill=\"#000000\">value = [395, 483]</text>\n</g>\n<!-- 41&#45;&gt;42 -->\n<g id=\"edge42\" class=\"edge\">\n<title>41&#45;&gt;42</title>\n<path fill=\"none\" stroke=\"#000000\" d=\"M2870.5,-192.9465C2870.5,-184.776 2870.5,-175.9318 2870.5,-167.3697\"/>\n<polygon fill=\"#000000\" stroke=\"#000000\" points=\"2874.0001,-167.13 2870.5,-157.13 2867.0001,-167.13 2874.0001,-167.13\"/>\n</g>\n<!-- 45 -->\n<g id=\"node46\" class=\"node\">\n<title>45</title>\n<polygon fill=\"none\" stroke=\"#000000\" points=\"3155.5,-157 3023.5,-157 3023.5,-89 3155.5,-89 3155.5,-157\"/>\n<text text-anchor=\"middle\" x=\"3089.5\" y=\"-141.8\" font-family=\"Helvetica,sans-Serif\" font-size=\"14.00\" fill=\"#000000\">X[1630] &lt;= 2.5</text>\n<text text-anchor=\"middle\" x=\"3089.5\" y=\"-126.8\" font-family=\"Helvetica,sans-Serif\" font-size=\"14.00\" fill=\"#000000\">entropy = 0.871</text>\n<text text-anchor=\"middle\" x=\"3089.5\" y=\"-111.8\" font-family=\"Helvetica,sans-Serif\" font-size=\"14.00\" fill=\"#000000\">samples = 343</text>\n<text text-anchor=\"middle\" x=\"3089.5\" y=\"-96.8\" font-family=\"Helvetica,sans-Serif\" font-size=\"14.00\" fill=\"#000000\">value = [243, 100]</text>\n</g>\n<!-- 41&#45;&gt;45 -->\n<g id=\"edge45\" class=\"edge\">\n<title>41&#45;&gt;45</title>\n<path fill=\"none\" stroke=\"#000000\" d=\"M2936.5042,-195.6555C2960.9569,-184.0433 2988.8651,-170.7901 3014.0917,-158.8103\"/>\n<polygon fill=\"#000000\" stroke=\"#000000\" points=\"3015.7213,-161.9111 3023.2531,-154.4597 3012.7185,-155.5879 3015.7213,-161.9111\"/>\n</g>\n<!-- 43 -->\n<g id=\"node44\" class=\"node\">\n<title>43</title>\n<polygon fill=\"none\" stroke=\"#000000\" points=\"2867.5,-53 2735.5,-53 2735.5,0 2867.5,0 2867.5,-53\"/>\n<text text-anchor=\"middle\" x=\"2801.5\" y=\"-37.8\" font-family=\"Helvetica,sans-Serif\" font-size=\"14.00\" fill=\"#000000\">entropy = 0.999</text>\n<text text-anchor=\"middle\" x=\"2801.5\" y=\"-22.8\" font-family=\"Helvetica,sans-Serif\" font-size=\"14.00\" fill=\"#000000\">samples = 578</text>\n<text text-anchor=\"middle\" x=\"2801.5\" y=\"-7.8\" font-family=\"Helvetica,sans-Serif\" font-size=\"14.00\" fill=\"#000000\">value = [302, 276]</text>\n</g>\n<!-- 42&#45;&gt;43 -->\n<g id=\"edge43\" class=\"edge\">\n<title>42&#45;&gt;43</title>\n<path fill=\"none\" stroke=\"#000000\" d=\"M2846.1732,-88.9777C2839.8221,-80.0954 2832.966,-70.5067 2826.5768,-61.5711\"/>\n<polygon fill=\"#000000\" stroke=\"#000000\" points=\"2829.2893,-59.3472 2820.6259,-53.2485 2823.5952,-63.4187 2829.2893,-59.3472\"/>\n</g>\n<!-- 44 -->\n<g id=\"node45\" class=\"node\">\n<title>44</title>\n<polygon fill=\"none\" stroke=\"#000000\" points=\"3009.5,-53 2885.5,-53 2885.5,0 3009.5,0 3009.5,-53\"/>\n<text text-anchor=\"middle\" x=\"2947.5\" y=\"-37.8\" font-family=\"Helvetica,sans-Serif\" font-size=\"14.00\" fill=\"#000000\">entropy = 0.893</text>\n<text text-anchor=\"middle\" x=\"2947.5\" y=\"-22.8\" font-family=\"Helvetica,sans-Serif\" font-size=\"14.00\" fill=\"#000000\">samples = 300</text>\n<text text-anchor=\"middle\" x=\"2947.5\" y=\"-7.8\" font-family=\"Helvetica,sans-Serif\" font-size=\"14.00\" fill=\"#000000\">value = [93, 207]</text>\n</g>\n<!-- 42&#45;&gt;44 -->\n<g id=\"edge44\" class=\"edge\">\n<title>42&#45;&gt;44</title>\n<path fill=\"none\" stroke=\"#000000\" d=\"M2897.6473,-88.9777C2904.8078,-80.0039 2912.5436,-70.3089 2919.7361,-61.295\"/>\n<polygon fill=\"#000000\" stroke=\"#000000\" points=\"2922.6554,-63.2481 2926.1567,-53.2485 2917.1837,-58.8821 2922.6554,-63.2481\"/>\n</g>\n<!-- 46 -->\n<g id=\"node47\" class=\"node\">\n<title>46</title>\n<polygon fill=\"none\" stroke=\"#000000\" points=\"3151.5,-53 3027.5,-53 3027.5,0 3151.5,0 3151.5,-53\"/>\n<text text-anchor=\"middle\" x=\"3089.5\" y=\"-37.8\" font-family=\"Helvetica,sans-Serif\" font-size=\"14.00\" fill=\"#000000\">entropy = 0.851</text>\n<text text-anchor=\"middle\" x=\"3089.5\" y=\"-22.8\" font-family=\"Helvetica,sans-Serif\" font-size=\"14.00\" fill=\"#000000\">samples = 336</text>\n<text text-anchor=\"middle\" x=\"3089.5\" y=\"-7.8\" font-family=\"Helvetica,sans-Serif\" font-size=\"14.00\" fill=\"#000000\">value = [243, 93]</text>\n</g>\n<!-- 45&#45;&gt;46 -->\n<g id=\"edge46\" class=\"edge\">\n<title>45&#45;&gt;46</title>\n<path fill=\"none\" stroke=\"#000000\" d=\"M3089.5,-88.9777C3089.5,-80.7364 3089.5,-71.887 3089.5,-63.5153\"/>\n<polygon fill=\"#000000\" stroke=\"#000000\" points=\"3093.0001,-63.2484 3089.5,-53.2485 3086.0001,-63.2485 3093.0001,-63.2484\"/>\n</g>\n<!-- 47 -->\n<g id=\"node48\" class=\"node\">\n<title>47</title>\n<polygon fill=\"none\" stroke=\"#000000\" points=\"3271,-53 3170,-53 3170,0 3271,0 3271,-53\"/>\n<text text-anchor=\"middle\" x=\"3220.5\" y=\"-37.8\" font-family=\"Helvetica,sans-Serif\" font-size=\"14.00\" fill=\"#000000\">entropy = 0.0</text>\n<text text-anchor=\"middle\" x=\"3220.5\" y=\"-22.8\" font-family=\"Helvetica,sans-Serif\" font-size=\"14.00\" fill=\"#000000\">samples = 7</text>\n<text text-anchor=\"middle\" x=\"3220.5\" y=\"-7.8\" font-family=\"Helvetica,sans-Serif\" font-size=\"14.00\" fill=\"#000000\">value = [0, 7]</text>\n</g>\n<!-- 45&#45;&gt;47 -->\n<g id=\"edge47\" class=\"edge\">\n<title>45&#45;&gt;47</title>\n<path fill=\"none\" stroke=\"#000000\" d=\"M3135.6857,-88.9777C3148.7379,-79.3629 3162.9139,-68.9203 3175.8727,-59.3743\"/>\n<polygon fill=\"#000000\" stroke=\"#000000\" points=\"3178.2131,-61.9974 3184.1886,-53.2485 3174.0614,-56.3615 3178.2131,-61.9974\"/>\n</g>\n<!-- 49 -->\n<g id=\"node50\" class=\"node\">\n<title>49</title>\n<polygon fill=\"none\" stroke=\"#000000\" points=\"3616.5,-261 3492.5,-261 3492.5,-193 3616.5,-193 3616.5,-261\"/>\n<text text-anchor=\"middle\" x=\"3554.5\" y=\"-245.8\" font-family=\"Helvetica,sans-Serif\" font-size=\"14.00\" fill=\"#000000\">X[669] &lt;= 0.5</text>\n<text text-anchor=\"middle\" x=\"3554.5\" y=\"-230.8\" font-family=\"Helvetica,sans-Serif\" font-size=\"14.00\" fill=\"#000000\">entropy = 0.3</text>\n<text text-anchor=\"middle\" x=\"3554.5\" y=\"-215.8\" font-family=\"Helvetica,sans-Serif\" font-size=\"14.00\" fill=\"#000000\">samples = 1034</text>\n<text text-anchor=\"middle\" x=\"3554.5\" y=\"-200.8\" font-family=\"Helvetica,sans-Serif\" font-size=\"14.00\" fill=\"#000000\">value = [979, 55]</text>\n</g>\n<!-- 48&#45;&gt;49 -->\n<g id=\"edge49\" class=\"edge\">\n<title>48&#45;&gt;49</title>\n<path fill=\"none\" stroke=\"#000000\" d=\"M3554.5,-296.9465C3554.5,-288.776 3554.5,-279.9318 3554.5,-271.3697\"/>\n<polygon fill=\"#000000\" stroke=\"#000000\" points=\"3558.0001,-271.13 3554.5,-261.13 3551.0001,-271.13 3558.0001,-271.13\"/>\n</g>\n<!-- 56 -->\n<g id=\"node57\" class=\"node\">\n<title>56</title>\n<polygon fill=\"none\" stroke=\"#000000\" points=\"3819.5,-261 3701.5,-261 3701.5,-193 3819.5,-193 3819.5,-261\"/>\n<text text-anchor=\"middle\" x=\"3760.5\" y=\"-245.8\" font-family=\"Helvetica,sans-Serif\" font-size=\"14.00\" fill=\"#000000\">X[5468] &lt;= 0.5</text>\n<text text-anchor=\"middle\" x=\"3760.5\" y=\"-230.8\" font-family=\"Helvetica,sans-Serif\" font-size=\"14.00\" fill=\"#000000\">entropy = 0.722</text>\n<text text-anchor=\"middle\" x=\"3760.5\" y=\"-215.8\" font-family=\"Helvetica,sans-Serif\" font-size=\"14.00\" fill=\"#000000\">samples = 5</text>\n<text text-anchor=\"middle\" x=\"3760.5\" y=\"-200.8\" font-family=\"Helvetica,sans-Serif\" font-size=\"14.00\" fill=\"#000000\">value = [1, 4]</text>\n</g>\n<!-- 48&#45;&gt;56 -->\n<g id=\"edge56\" class=\"edge\">\n<title>48&#45;&gt;56</title>\n<path fill=\"none\" stroke=\"#000000\" d=\"M3616.5861,-299.6555C3640.4318,-287.6169 3667.771,-273.8146 3692.1714,-261.496\"/>\n<polygon fill=\"#000000\" stroke=\"#000000\" points=\"3694.0162,-264.4854 3701.3657,-256.8542 3690.8615,-258.2366 3694.0162,-264.4854\"/>\n</g>\n<!-- 50 -->\n<g id=\"node51\" class=\"node\">\n<title>50</title>\n<polygon fill=\"none\" stroke=\"#000000\" points=\"3549.5,-157 3425.5,-157 3425.5,-89 3549.5,-89 3549.5,-157\"/>\n<text text-anchor=\"middle\" x=\"3487.5\" y=\"-141.8\" font-family=\"Helvetica,sans-Serif\" font-size=\"14.00\" fill=\"#000000\">X[5312] &lt;= 0.5</text>\n<text text-anchor=\"middle\" x=\"3487.5\" y=\"-126.8\" font-family=\"Helvetica,sans-Serif\" font-size=\"14.00\" fill=\"#000000\">entropy = 0.212</text>\n<text text-anchor=\"middle\" x=\"3487.5\" y=\"-111.8\" font-family=\"Helvetica,sans-Serif\" font-size=\"14.00\" fill=\"#000000\">samples = 775</text>\n<text text-anchor=\"middle\" x=\"3487.5\" y=\"-96.8\" font-family=\"Helvetica,sans-Serif\" font-size=\"14.00\" fill=\"#000000\">value = [749, 26]</text>\n</g>\n<!-- 49&#45;&gt;50 -->\n<g id=\"edge50\" class=\"edge\">\n<title>49&#45;&gt;50</title>\n<path fill=\"none\" stroke=\"#000000\" d=\"M3532.5617,-192.9465C3526.951,-184.2373 3520.8471,-174.7626 3514.9958,-165.6801\"/>\n<polygon fill=\"#000000\" stroke=\"#000000\" points=\"3517.8457,-163.641 3509.4876,-157.13 3511.9611,-167.4321 3517.8457,-163.641\"/>\n</g>\n<!-- 53 -->\n<g id=\"node54\" class=\"node\">\n<title>53</title>\n<polygon fill=\"none\" stroke=\"#000000\" points=\"3691.5,-157 3567.5,-157 3567.5,-89 3691.5,-89 3691.5,-157\"/>\n<text text-anchor=\"middle\" x=\"3629.5\" y=\"-141.8\" font-family=\"Helvetica,sans-Serif\" font-size=\"14.00\" fill=\"#000000\">X[12578] &lt;= 0.5</text>\n<text text-anchor=\"middle\" x=\"3629.5\" y=\"-126.8\" font-family=\"Helvetica,sans-Serif\" font-size=\"14.00\" fill=\"#000000\">entropy = 0.506</text>\n<text text-anchor=\"middle\" x=\"3629.5\" y=\"-111.8\" font-family=\"Helvetica,sans-Serif\" font-size=\"14.00\" fill=\"#000000\">samples = 259</text>\n<text text-anchor=\"middle\" x=\"3629.5\" y=\"-96.8\" font-family=\"Helvetica,sans-Serif\" font-size=\"14.00\" fill=\"#000000\">value = [230, 29]</text>\n</g>\n<!-- 49&#45;&gt;53 -->\n<g id=\"edge53\" class=\"edge\">\n<title>49&#45;&gt;53</title>\n<path fill=\"none\" stroke=\"#000000\" d=\"M3579.0578,-192.9465C3585.4032,-184.1475 3592.3121,-174.5672 3598.9236,-165.3993\"/>\n<polygon fill=\"#000000\" stroke=\"#000000\" points=\"3601.8766,-167.2882 3604.887,-157.13 3596.1989,-163.1937 3601.8766,-167.2882\"/>\n</g>\n<!-- 51 -->\n<g id=\"node52\" class=\"node\">\n<title>51</title>\n<polygon fill=\"none\" stroke=\"#000000\" points=\"3413.5,-53 3289.5,-53 3289.5,0 3413.5,0 3413.5,-53\"/>\n<text text-anchor=\"middle\" x=\"3351.5\" y=\"-37.8\" font-family=\"Helvetica,sans-Serif\" font-size=\"14.00\" fill=\"#000000\">entropy = 0.182</text>\n<text text-anchor=\"middle\" x=\"3351.5\" y=\"-22.8\" font-family=\"Helvetica,sans-Serif\" font-size=\"14.00\" fill=\"#000000\">samples = 760</text>\n<text text-anchor=\"middle\" x=\"3351.5\" y=\"-7.8\" font-family=\"Helvetica,sans-Serif\" font-size=\"14.00\" fill=\"#000000\">value = [739, 21]</text>\n</g>\n<!-- 50&#45;&gt;51 -->\n<g id=\"edge51\" class=\"edge\">\n<title>50&#45;&gt;51</title>\n<path fill=\"none\" stroke=\"#000000\" d=\"M3439.5515,-88.9777C3425.872,-79.2713 3411.0036,-68.7213 3397.4466,-59.1018\"/>\n<polygon fill=\"#000000\" stroke=\"#000000\" points=\"3399.3783,-56.1809 3389.1973,-53.2485 3395.3275,-61.8898 3399.3783,-56.1809\"/>\n</g>\n<!-- 52 -->\n<g id=\"node53\" class=\"node\">\n<title>52</title>\n<polygon fill=\"none\" stroke=\"#000000\" points=\"3549.5,-53 3431.5,-53 3431.5,0 3549.5,0 3549.5,-53\"/>\n<text text-anchor=\"middle\" x=\"3490.5\" y=\"-37.8\" font-family=\"Helvetica,sans-Serif\" font-size=\"14.00\" fill=\"#000000\">entropy = 0.918</text>\n<text text-anchor=\"middle\" x=\"3490.5\" y=\"-22.8\" font-family=\"Helvetica,sans-Serif\" font-size=\"14.00\" fill=\"#000000\">samples = 15</text>\n<text text-anchor=\"middle\" x=\"3490.5\" y=\"-7.8\" font-family=\"Helvetica,sans-Serif\" font-size=\"14.00\" fill=\"#000000\">value = [10, 5]</text>\n</g>\n<!-- 50&#45;&gt;52 -->\n<g id=\"edge52\" class=\"edge\">\n<title>50&#45;&gt;52</title>\n<path fill=\"none\" stroke=\"#000000\" d=\"M3488.5577,-88.9777C3488.8139,-80.7364 3489.089,-71.887 3489.3493,-63.5153\"/>\n<polygon fill=\"#000000\" stroke=\"#000000\" points=\"3492.8559,-63.3524 3489.6684,-53.2485 3485.8593,-63.1349 3492.8559,-63.3524\"/>\n</g>\n<!-- 54 -->\n<g id=\"node55\" class=\"node\">\n<title>54</title>\n<polygon fill=\"none\" stroke=\"#000000\" points=\"3691.5,-53 3567.5,-53 3567.5,0 3691.5,0 3691.5,-53\"/>\n<text text-anchor=\"middle\" x=\"3629.5\" y=\"-37.8\" font-family=\"Helvetica,sans-Serif\" font-size=\"14.00\" fill=\"#000000\">entropy = 0.431</text>\n<text text-anchor=\"middle\" x=\"3629.5\" y=\"-22.8\" font-family=\"Helvetica,sans-Serif\" font-size=\"14.00\" fill=\"#000000\">samples = 249</text>\n<text text-anchor=\"middle\" x=\"3629.5\" y=\"-7.8\" font-family=\"Helvetica,sans-Serif\" font-size=\"14.00\" fill=\"#000000\">value = [227, 22]</text>\n</g>\n<!-- 53&#45;&gt;54 -->\n<g id=\"edge54\" class=\"edge\">\n<title>53&#45;&gt;54</title>\n<path fill=\"none\" stroke=\"#000000\" d=\"M3629.5,-88.9777C3629.5,-80.7364 3629.5,-71.887 3629.5,-63.5153\"/>\n<polygon fill=\"#000000\" stroke=\"#000000\" points=\"3633.0001,-63.2484 3629.5,-53.2485 3626.0001,-63.2485 3633.0001,-63.2484\"/>\n</g>\n<!-- 55 -->\n<g id=\"node56\" class=\"node\">\n<title>55</title>\n<polygon fill=\"none\" stroke=\"#000000\" points=\"3827.5,-53 3709.5,-53 3709.5,0 3827.5,0 3827.5,-53\"/>\n<text text-anchor=\"middle\" x=\"3768.5\" y=\"-37.8\" font-family=\"Helvetica,sans-Serif\" font-size=\"14.00\" fill=\"#000000\">entropy = 0.881</text>\n<text text-anchor=\"middle\" x=\"3768.5\" y=\"-22.8\" font-family=\"Helvetica,sans-Serif\" font-size=\"14.00\" fill=\"#000000\">samples = 10</text>\n<text text-anchor=\"middle\" x=\"3768.5\" y=\"-7.8\" font-family=\"Helvetica,sans-Serif\" font-size=\"14.00\" fill=\"#000000\">value = [3, 7]</text>\n</g>\n<!-- 53&#45;&gt;55 -->\n<g id=\"edge55\" class=\"edge\">\n<title>53&#45;&gt;55</title>\n<path fill=\"none\" stroke=\"#000000\" d=\"M3678.5062,-88.9777C3692.4874,-79.2713 3707.6838,-68.7213 3721.5398,-59.1018\"/>\n<polygon fill=\"#000000\" stroke=\"#000000\" points=\"3723.7526,-61.8264 3729.9711,-53.2485 3719.7606,-56.0763 3723.7526,-61.8264\"/>\n</g>\n<!-- 57 -->\n<g id=\"node58\" class=\"node\">\n<title>57</title>\n<polygon fill=\"none\" stroke=\"#000000\" points=\"3811,-149.5 3710,-149.5 3710,-96.5 3811,-96.5 3811,-149.5\"/>\n<text text-anchor=\"middle\" x=\"3760.5\" y=\"-134.3\" font-family=\"Helvetica,sans-Serif\" font-size=\"14.00\" fill=\"#000000\">entropy = 0.0</text>\n<text text-anchor=\"middle\" x=\"3760.5\" y=\"-119.3\" font-family=\"Helvetica,sans-Serif\" font-size=\"14.00\" fill=\"#000000\">samples = 4</text>\n<text text-anchor=\"middle\" x=\"3760.5\" y=\"-104.3\" font-family=\"Helvetica,sans-Serif\" font-size=\"14.00\" fill=\"#000000\">value = [0, 4]</text>\n</g>\n<!-- 56&#45;&gt;57 -->\n<g id=\"edge57\" class=\"edge\">\n<title>56&#45;&gt;57</title>\n<path fill=\"none\" stroke=\"#000000\" d=\"M3760.5,-192.9465C3760.5,-182.2621 3760.5,-170.4254 3760.5,-159.5742\"/>\n<polygon fill=\"#000000\" stroke=\"#000000\" points=\"3764.0001,-159.5421 3760.5,-149.5422 3757.0001,-159.5422 3764.0001,-159.5421\"/>\n</g>\n<!-- 58 -->\n<g id=\"node59\" class=\"node\">\n<title>58</title>\n<polygon fill=\"none\" stroke=\"#000000\" points=\"3930,-149.5 3829,-149.5 3829,-96.5 3930,-96.5 3930,-149.5\"/>\n<text text-anchor=\"middle\" x=\"3879.5\" y=\"-134.3\" font-family=\"Helvetica,sans-Serif\" font-size=\"14.00\" fill=\"#000000\">entropy = 0.0</text>\n<text text-anchor=\"middle\" x=\"3879.5\" y=\"-119.3\" font-family=\"Helvetica,sans-Serif\" font-size=\"14.00\" fill=\"#000000\">samples = 1</text>\n<text text-anchor=\"middle\" x=\"3879.5\" y=\"-104.3\" font-family=\"Helvetica,sans-Serif\" font-size=\"14.00\" fill=\"#000000\">value = [1, 0]</text>\n</g>\n<!-- 56&#45;&gt;58 -->\n<g id=\"edge58\" class=\"edge\">\n<title>56&#45;&gt;58</title>\n<path fill=\"none\" stroke=\"#000000\" d=\"M3799.4651,-192.9465C3812.9509,-181.1606 3828.0409,-167.9726 3841.4521,-156.2519\"/>\n<polygon fill=\"#000000\" stroke=\"#000000\" points=\"3843.9031,-158.7582 3849.1296,-149.5422 3839.2967,-153.4874 3843.9031,-158.7582\"/>\n</g>\n</g>\n</svg>\n",
            "text/plain": [
              "<graphviz.files.Source at 0x7f3933c74520>"
            ]
          },
          "execution_count": 39,
          "metadata": {},
          "output_type": "execute_result"
        },
        {
          "data": {
            "text/plain": [
              "<Figure size 72x72 with 0 Axes>"
            ]
          },
          "metadata": {},
          "output_type": "display_data"
        }
      ],
      "source": [
        "plt.figure(figsize=(1,1))\n",
        "dot_data=tree.export_graphviz(decision_tree_classifier,out_file=None)\n",
        "graph=graphviz.Source(dot_data)\n",
        "graph.render('df')\n",
        "graph"
      ]
    },
    {
      "cell_type": "markdown",
      "metadata": {
        "id": "nYfC6lyEGD_A"
      },
      "source": [
        "## **Analyse Linéaire Discriminante**"
      ]
    },
    {
      "cell_type": "markdown",
      "metadata": {
        "id": "a5MABdi1GKSJ"
      },
      "source": [
        "> **Entrainnement du modèle**"
      ]
    },
    {
      "cell_type": "code",
      "execution_count": 40,
      "metadata": {
        "colab": {
          "base_uri": "https://localhost:8080/"
        },
        "id": "wizqJ3d0GPCn",
        "outputId": "3a330fbe-ce8b-41eb-dc78-ffe61a153dff"
      },
      "outputs": [
        {
          "data": {
            "text/plain": [
              "LinearDiscriminantAnalysis()"
            ]
          },
          "execution_count": 40,
          "metadata": {},
          "output_type": "execute_result"
        }
      ],
      "source": [
        "#réduisons la taille de nos données\n",
        "df_trainingLDA = train_data.loc[7500:17499]\n",
        "df_testingLDA = test_data.loc[7500:17499]\n",
        "trainingLDA = df_trainingLDA.copy()\n",
        "testingLDA = df_testingLDA.copy()\n",
        "y_trainingLDA = trainingLDA['sentiment'].values\n",
        "y_testingLDA = testingLDA['sentiment'].values\n",
        "trainingLDA.drop(['sentiment'], axis=1, inplace=True)\n",
        "testingLDA.drop(['sentiment'], axis=1, inplace=True)\n",
        "\n",
        "X_train_LDA = trainingLDA\n",
        "X_test_LDA = testingLDA\n",
        "Y_train_LDA = y_trainingLDA\n",
        "Y_test_LDA = y_testingLDA\n",
        "\n",
        "\n",
        "\n",
        "X_train_review_bow_LDA = vect.fit_transform(X_train_LDA['preprocessed_tokens'])\n",
        "X_test_review_bow_LDA = vect.transform(X_test_LDA['preprocessed_tokens'])\n",
        "\n",
        "LDA_classifier = LinearDiscriminantAnalysis()\n",
        "LDA_classifier.fit(X_train_review_bow_LDA.toarray(), Y_train_LDA)"
      ]
    },
    {
      "cell_type": "markdown",
      "metadata": {
        "id": "VgJV0cbVGiFk"
      },
      "source": [
        "> **Evaluation du modèle et resultats**"
      ]
    },
    {
      "cell_type": "code",
      "execution_count": 41,
      "metadata": {
        "colab": {
          "base_uri": "https://localhost:8080/"
        },
        "id": "4sGZ18HPGwmn",
        "outputId": "52624823-2eaa-484a-87be-77e5352df1c7"
      },
      "outputs": [
        {
          "name": "stdout",
          "output_type": "stream",
          "text": [
            "Taux de prediction:  0.5641\n"
          ]
        }
      ],
      "source": [
        "Y_predicted_LDA = LDA_classifier.predict(X_test_review_bow_LDA.toarray())\n",
        "print('Taux de prediction: ', accuracy_score(Y_test_LDA, Y_predicted_LDA))"
      ]
    },
    {
      "cell_type": "markdown",
      "metadata": {
        "id": "rXsCgavSGz1-"
      },
      "source": [
        "## **SVM**"
      ]
    },
    {
      "cell_type": "markdown",
      "metadata": {
        "id": "T9JPhVc6G5-q"
      },
      "source": [
        "> **Entrainnement du modèle**"
      ]
    },
    {
      "cell_type": "code",
      "execution_count": 42,
      "metadata": {
        "colab": {
          "base_uri": "https://localhost:8080/"
        },
        "id": "-y9mhW_dG9pz",
        "outputId": "e972a83c-f734-4e36-ba38-fe09e342fee3"
      },
      "outputs": [
        {
          "data": {
            "text/plain": [
              "LinearSVC(class_weight='balanced', fit_intercept=False, loss='hinge',\n",
              "          random_state=3)"
            ]
          },
          "execution_count": 42,
          "metadata": {},
          "output_type": "execute_result"
        }
      ],
      "source": [
        "# Nous allons travailler sur les mêmes données que LDA\n",
        "\n",
        "SVM_classifier = LinearSVC(class_weight='balanced', random_state=3, loss=\"hinge\", fit_intercept=False)\n",
        "SVM_classifier.fit(X_train_review_bow_LDA.toarray(), Y_train_LDA)\n"
      ]
    },
    {
      "cell_type": "markdown",
      "metadata": {
        "id": "mH-ig-JxHD-S"
      },
      "source": [
        "> **Evaluation du modèle et resultats**"
      ]
    },
    {
      "cell_type": "code",
      "execution_count": 43,
      "metadata": {
        "colab": {
          "base_uri": "https://localhost:8080/"
        },
        "id": "kTB6ATDjHF7q",
        "outputId": "7dbc7b9e-2355-42af-b92f-45b2d3db6d83"
      },
      "outputs": [
        {
          "name": "stdout",
          "output_type": "stream",
          "text": [
            "Taux de prediction: 0.8326\n"
          ]
        }
      ],
      "source": [
        "Y_predicted_SVM=SVM_classifier.predict(X_test_review_bow_LDA.toarray())\n",
        "print('Taux de prediction:',accuracy_score(Y_test_LDA, Y_predicted_SVM))"
      ]
    },
    {
      "cell_type": "code",
      "execution_count": 54,
      "metadata": {
        "id": "Le67QcgmApUJ"
      },
      "outputs": [],
      "source": []
    }
  ],
  "metadata": {
    "colab": {
      "provenance": []
    },
    "kernelspec": {
      "display_name": "Python 3.9.10 64-bit",
      "language": "python",
      "name": "python3"
    },
    "language_info": {
      "name": "python",
      "version": "3.9.10"
    },
    "vscode": {
      "interpreter": {
        "hash": "bd7eb95d3edcdf1c5398784e1a7ae907898fea8b932af7f48035ef41b1e79b15"
      }
    }
  },
  "nbformat": 4,
  "nbformat_minor": 0
}
